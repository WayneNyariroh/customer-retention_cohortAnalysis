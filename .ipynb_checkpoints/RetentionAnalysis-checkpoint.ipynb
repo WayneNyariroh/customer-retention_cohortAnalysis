{
 "cells": [
  {
   "cell_type": "markdown",
   "id": "88e5a79e-72b5-45a3-940d-80027cce950a",
   "metadata": {},
   "source": [
    "# Customer Retention Rates: Part 2 of Store Analysis\n",
    "#### by ***Wayne Omondi***"
   ]
  },
  {
   "cell_type": "markdown",
   "id": "496109ff-2b11-4e39-9043-ec835e98ebf5",
   "metadata": {},
   "source": [
    "## 1.0: Introduction"
   ]
  },
  {
   "cell_type": "markdown",
   "id": "655af5f6",
   "metadata": {},
   "source": [
    "One of the best things for any business is to establish returning customers. Any company that wants to succeed must keep a close eye on its customer retention metrics. There’s a simple, economic reason why customer retention is so important: Keeping your existing customers is a lot less expensive than trying to win new ones. Loyal customers also contribute to your business’ health by providing referrals, promoting your brand on social media, and giving feedback to improve your product or service. So, it’s critical for companies to keep an eye on their customer retention rate.\n",
    "\n",
    "***How do you calculate customer retention rate?***<br>\n",
    "To determine our retention rate, first we have to identify the time frame you want to study. Next, collect the number of existing customers at the start of the time period. Then find the number of total customers at the end of the time period.\n",
    "\n",
    "For this we will explore the concept of a ***cohort***. A cohort is <ins>a group of subjects that share a defining characteristic.</ins> \n",
    ">A cohort has three main attributes:\n",
    ">1. time\n",
    ">2. size\n",
    ">3. behaviour"
   ]
  },
  {
   "cell_type": "markdown",
   "id": "a19f0185-a78c-4f54-93cb-ede2ff949778",
   "metadata": {},
   "source": [
    "### 1.1: Steps"
   ]
  },
  {
   "cell_type": "markdown",
   "id": "5504cf14-dd08-4f28-8baa-49ca7edb131d",
   "metadata": {},
   "source": [
    "1. __Data Loading and Preparation__\n",
    " > importing our dataset, cleaning it and preparing it.<br> \n",
    "2. __Assigning Cohorts__\n",
    "\n",
    "3. __Cohort Indexing__\n",
    "\n",
    "4. __Visualization__\n",
    "\n",
    "5. __Interpretation__"
   ]
  },
  {
   "cell_type": "code",
   "execution_count": null,
   "id": "c5e21427-553a-40b9-9a00-3359800808ca",
   "metadata": {},
   "outputs": [],
   "source": []
  },
  {
   "cell_type": "markdown",
   "id": "36beb557-fde6-4484-9bdf-f12adc54ea42",
   "metadata": {},
   "source": [
    "## 2.0: Data Loading and Prep"
   ]
  },
  {
   "cell_type": "markdown",
   "id": "a5ccbcac-bfda-4506-b3c3-ee74d93eac46",
   "metadata": {},
   "source": [
    "First we import the libraries we will need to use"
   ]
  },
  {
   "cell_type": "code",
   "execution_count": 1,
   "id": "7632804c-66d9-4344-a103-e06115f913fe",
   "metadata": {
    "tags": []
   },
   "outputs": [],
   "source": [
    "import pandas as pd\n",
    "import matplotlib.pyplot as plt\n",
    "import seaborn as sns"
   ]
  },
  {
   "cell_type": "markdown",
   "id": "fcedf926-5a1f-4dce-a18c-9964713ccb40",
   "metadata": {},
   "source": [
    "Enable our notebook to ignore all warnings"
   ]
  },
  {
   "cell_type": "code",
   "execution_count": 2,
   "id": "2c5cba1d-3c54-4fcb-b55f-922f2b56ebdc",
   "metadata": {},
   "outputs": [],
   "source": [
    "import warnings\n",
    "warnings.filterwarnings(\"ignore\")"
   ]
  },
  {
   "cell_type": "markdown",
   "id": "8e3fc603-0a6c-4597-b23e-c746ab902485",
   "metadata": {},
   "source": [
    "We will use the SuperStore dataset from [Part 1. EDA Project](https://github.com/WayneNyariroh/StoreSales_Analysis)<br>\n",
    "Let's import our dataset using read_csv()"
   ]
  },
  {
   "cell_type": "code",
   "execution_count": 3,
   "id": "f7469491-0c9f-4983-a98e-0538c07820d1",
   "metadata": {},
   "outputs": [],
   "source": [
    "store_df = pd.read_csv(r\"C:\\Users\\FatherMammoth\\Documents\\PortfolioPorjects\\SalesAnalysis\\data\\SuperStoreSales_Whole.csv\")"
   ]
  },
  {
   "cell_type": "code",
   "execution_count": 4,
   "id": "919cf2f9-ce0f-4f16-937e-5e77284f382e",
   "metadata": {},
   "outputs": [
    {
     "name": "stdout",
     "output_type": "stream",
     "text": [
      "<class 'pandas.core.frame.DataFrame'>\n",
      "RangeIndex: 9800 entries, 0 to 9799\n",
      "Data columns (total 21 columns):\n",
      " #   Column         Non-Null Count  Dtype  \n",
      "---  ------         --------------  -----  \n",
      " 0   Row ID         9800 non-null   int64  \n",
      " 1   Order ID       9800 non-null   object \n",
      " 2   Order Date     9800 non-null   object \n",
      " 3   Ship Date      9800 non-null   object \n",
      " 4   Ship Mode      9800 non-null   object \n",
      " 5   Customer ID    9800 non-null   object \n",
      " 6   Customer Name  9800 non-null   object \n",
      " 7   Segment        9800 non-null   object \n",
      " 8   Country        9800 non-null   object \n",
      " 9   City           9800 non-null   object \n",
      " 10  State          9800 non-null   object \n",
      " 11  Postal Code    9789 non-null   float64\n",
      " 12  Region         9800 non-null   object \n",
      " 13  Product ID     9800 non-null   object \n",
      " 14  Category       9800 non-null   object \n",
      " 15  Sub-Category   9800 non-null   object \n",
      " 16  Product Name   9800 non-null   object \n",
      " 17  Sales          9800 non-null   float64\n",
      " 18  Quantity       9800 non-null   int64  \n",
      " 19  Discount       9800 non-null   float64\n",
      " 20  Profit         9800 non-null   float64\n",
      "dtypes: float64(4), int64(2), object(15)\n",
      "memory usage: 1.6+ MB\n"
     ]
    }
   ],
   "source": [
    "store_df.info() #see our rows, columns, non-null values and datatypes"
   ]
  },
  {
   "cell_type": "markdown",
   "id": "aad62829-2b70-46c4-acde-be4b5774c8e3",
   "metadata": {},
   "source": [
    "After seeing our columns, we do not need a good number of them. The two most important columns for our cohort analysis are the *Order Date* and *Customer ID*. As such we have to check for any missing values in those two column."
   ]
  },
  {
   "cell_type": "code",
   "execution_count": 5,
   "id": "c9c52ae0-e5f1-423f-89fe-1c309df04d79",
   "metadata": {},
   "outputs": [
    {
     "data": {
      "text/plain": [
       "Order ID       0\n",
       "Order Date     0\n",
       "Customer ID    0\n",
       "Sales          0\n",
       "dtype: int64"
      ]
     },
     "execution_count": 5,
     "metadata": {},
     "output_type": "execute_result"
    }
   ],
   "source": [
    "store_df[['Order ID','Order Date','Customer ID','Sales']].isnull().sum()"
   ]
  },
  {
   "cell_type": "markdown",
   "id": "60f9d8ac-60d7-4419-9342-be567c688f37",
   "metadata": {},
   "source": [
    "Let's create a new dataframe that has only the columns we need"
   ]
  },
  {
   "cell_type": "code",
   "execution_count": 6,
   "id": "0b5a0de6-8aee-4c09-a5ea-26dadd6c8512",
   "metadata": {},
   "outputs": [],
   "source": [
    "customer_df = store_df[['Order ID','Order Date','Customer ID','Sales']]"
   ]
  },
  {
   "cell_type": "code",
   "execution_count": 7,
   "id": "ed410f3c-d86f-4c6c-bbea-9c52addbc03a",
   "metadata": {},
   "outputs": [
    {
     "name": "stdout",
     "output_type": "stream",
     "text": [
      "<class 'pandas.core.frame.DataFrame'>\n",
      "RangeIndex: 9800 entries, 0 to 9799\n",
      "Data columns (total 4 columns):\n",
      " #   Column       Non-Null Count  Dtype  \n",
      "---  ------       --------------  -----  \n",
      " 0   Order ID     9800 non-null   object \n",
      " 1   Order Date   9800 non-null   object \n",
      " 2   Customer ID  9800 non-null   object \n",
      " 3   Sales        9800 non-null   float64\n",
      "dtypes: float64(1), object(3)\n",
      "memory usage: 306.4+ KB\n"
     ]
    }
   ],
   "source": [
    "customer_df.info()"
   ]
  },
  {
   "cell_type": "code",
   "execution_count": 8,
   "id": "b9075172-0140-4d0d-952b-ee827a4c82bd",
   "metadata": {},
   "outputs": [
    {
     "data": {
      "text/html": [
       "<div>\n",
       "<style scoped>\n",
       "    .dataframe tbody tr th:only-of-type {\n",
       "        vertical-align: middle;\n",
       "    }\n",
       "\n",
       "    .dataframe tbody tr th {\n",
       "        vertical-align: top;\n",
       "    }\n",
       "\n",
       "    .dataframe thead th {\n",
       "        text-align: right;\n",
       "    }\n",
       "</style>\n",
       "<table border=\"1\" class=\"dataframe\">\n",
       "  <thead>\n",
       "    <tr style=\"text-align: right;\">\n",
       "      <th></th>\n",
       "      <th>Order ID</th>\n",
       "      <th>Order Date</th>\n",
       "      <th>Customer ID</th>\n",
       "      <th>Sales</th>\n",
       "    </tr>\n",
       "  </thead>\n",
       "  <tbody>\n",
       "    <tr>\n",
       "      <th>0</th>\n",
       "      <td>CA-2017-152156</td>\n",
       "      <td>8/11/2017</td>\n",
       "      <td>CG-12520</td>\n",
       "      <td>261.9600</td>\n",
       "    </tr>\n",
       "    <tr>\n",
       "      <th>1</th>\n",
       "      <td>CA-2017-152156</td>\n",
       "      <td>8/11/2017</td>\n",
       "      <td>CG-12520</td>\n",
       "      <td>731.9400</td>\n",
       "    </tr>\n",
       "    <tr>\n",
       "      <th>2</th>\n",
       "      <td>CA-2017-138688</td>\n",
       "      <td>12/6/2017</td>\n",
       "      <td>DV-13045</td>\n",
       "      <td>14.6200</td>\n",
       "    </tr>\n",
       "    <tr>\n",
       "      <th>3</th>\n",
       "      <td>US-2016-108966</td>\n",
       "      <td>11/10/2016</td>\n",
       "      <td>SO-20335</td>\n",
       "      <td>957.5775</td>\n",
       "    </tr>\n",
       "    <tr>\n",
       "      <th>4</th>\n",
       "      <td>US-2016-108966</td>\n",
       "      <td>11/10/2016</td>\n",
       "      <td>SO-20335</td>\n",
       "      <td>22.3680</td>\n",
       "    </tr>\n",
       "  </tbody>\n",
       "</table>\n",
       "</div>"
      ],
      "text/plain": [
       "         Order ID  Order Date Customer ID     Sales\n",
       "0  CA-2017-152156   8/11/2017    CG-12520  261.9600\n",
       "1  CA-2017-152156   8/11/2017    CG-12520  731.9400\n",
       "2  CA-2017-138688   12/6/2017    DV-13045   14.6200\n",
       "3  US-2016-108966  11/10/2016    SO-20335  957.5775\n",
       "4  US-2016-108966  11/10/2016    SO-20335   22.3680"
      ]
     },
     "execution_count": 8,
     "metadata": {},
     "output_type": "execute_result"
    }
   ],
   "source": [
    "customer_df.head()"
   ]
  },
  {
   "cell_type": "code",
   "execution_count": null,
   "id": "b2d80f0d-fb90-41bf-9b56-ab43ff3e66d1",
   "metadata": {},
   "outputs": [],
   "source": []
  },
  {
   "cell_type": "markdown",
   "id": "5bfe86c3-a4bc-43af-af9d-65cd642ca1ce",
   "metadata": {},
   "source": [
    "## 3.0: Assigning Cohorts"
   ]
  },
  {
   "cell_type": "markdown",
   "id": "f8817e7d-2ef5-4bc4-8938-79a084cf1d98",
   "metadata": {},
   "source": [
    "As stated in the introduction the whole idea behind customer retention is having repeat purchases from that same client and a cohort being a group of subjects with a defining characteristics. In our case a customer cohort will be composed of all the customers who made their first purchase with the store on a given time period."
   ]
  },
  {
   "cell_type": "code",
   "execution_count": 9,
   "id": "b669c04d-77e4-4398-85aa-32f3b2d82de1",
   "metadata": {},
   "outputs": [
    {
     "data": {
      "text/html": [
       "<div>\n",
       "<style scoped>\n",
       "    .dataframe tbody tr th:only-of-type {\n",
       "        vertical-align: middle;\n",
       "    }\n",
       "\n",
       "    .dataframe tbody tr th {\n",
       "        vertical-align: top;\n",
       "    }\n",
       "\n",
       "    .dataframe thead th {\n",
       "        text-align: right;\n",
       "    }\n",
       "</style>\n",
       "<table border=\"1\" class=\"dataframe\">\n",
       "  <thead>\n",
       "    <tr style=\"text-align: right;\">\n",
       "      <th></th>\n",
       "      <th>Order ID</th>\n",
       "      <th>Order Date</th>\n",
       "      <th>Customer ID</th>\n",
       "      <th>Sales</th>\n",
       "    </tr>\n",
       "  </thead>\n",
       "  <tbody>\n",
       "    <tr>\n",
       "      <th>0</th>\n",
       "      <td>CA-2017-152156</td>\n",
       "      <td>8/11/2017</td>\n",
       "      <td>CG-12520</td>\n",
       "      <td>261.9600</td>\n",
       "    </tr>\n",
       "    <tr>\n",
       "      <th>1</th>\n",
       "      <td>CA-2017-152156</td>\n",
       "      <td>8/11/2017</td>\n",
       "      <td>CG-12520</td>\n",
       "      <td>731.9400</td>\n",
       "    </tr>\n",
       "    <tr>\n",
       "      <th>2</th>\n",
       "      <td>CA-2017-138688</td>\n",
       "      <td>12/6/2017</td>\n",
       "      <td>DV-13045</td>\n",
       "      <td>14.6200</td>\n",
       "    </tr>\n",
       "    <tr>\n",
       "      <th>3</th>\n",
       "      <td>US-2016-108966</td>\n",
       "      <td>11/10/2016</td>\n",
       "      <td>SO-20335</td>\n",
       "      <td>957.5775</td>\n",
       "    </tr>\n",
       "    <tr>\n",
       "      <th>4</th>\n",
       "      <td>US-2016-108966</td>\n",
       "      <td>11/10/2016</td>\n",
       "      <td>SO-20335</td>\n",
       "      <td>22.3680</td>\n",
       "    </tr>\n",
       "    <tr>\n",
       "      <th>...</th>\n",
       "      <td>...</td>\n",
       "      <td>...</td>\n",
       "      <td>...</td>\n",
       "      <td>...</td>\n",
       "    </tr>\n",
       "    <tr>\n",
       "      <th>9795</th>\n",
       "      <td>CA-2017-125920</td>\n",
       "      <td>21/05/2017</td>\n",
       "      <td>SH-19975</td>\n",
       "      <td>3.7980</td>\n",
       "    </tr>\n",
       "    <tr>\n",
       "      <th>9796</th>\n",
       "      <td>CA-2016-128608</td>\n",
       "      <td>12/1/2016</td>\n",
       "      <td>CS-12490</td>\n",
       "      <td>10.3680</td>\n",
       "    </tr>\n",
       "    <tr>\n",
       "      <th>9797</th>\n",
       "      <td>CA-2016-128608</td>\n",
       "      <td>12/1/2016</td>\n",
       "      <td>CS-12490</td>\n",
       "      <td>235.1880</td>\n",
       "    </tr>\n",
       "    <tr>\n",
       "      <th>9798</th>\n",
       "      <td>CA-2016-128608</td>\n",
       "      <td>12/1/2016</td>\n",
       "      <td>CS-12490</td>\n",
       "      <td>26.3760</td>\n",
       "    </tr>\n",
       "    <tr>\n",
       "      <th>9799</th>\n",
       "      <td>CA-2016-128608</td>\n",
       "      <td>12/1/2016</td>\n",
       "      <td>CS-12490</td>\n",
       "      <td>10.3840</td>\n",
       "    </tr>\n",
       "  </tbody>\n",
       "</table>\n",
       "<p>9800 rows × 4 columns</p>\n",
       "</div>"
      ],
      "text/plain": [
       "            Order ID  Order Date Customer ID     Sales\n",
       "0     CA-2017-152156   8/11/2017    CG-12520  261.9600\n",
       "1     CA-2017-152156   8/11/2017    CG-12520  731.9400\n",
       "2     CA-2017-138688   12/6/2017    DV-13045   14.6200\n",
       "3     US-2016-108966  11/10/2016    SO-20335  957.5775\n",
       "4     US-2016-108966  11/10/2016    SO-20335   22.3680\n",
       "...              ...         ...         ...       ...\n",
       "9795  CA-2017-125920  21/05/2017    SH-19975    3.7980\n",
       "9796  CA-2016-128608   12/1/2016    CS-12490   10.3680\n",
       "9797  CA-2016-128608   12/1/2016    CS-12490  235.1880\n",
       "9798  CA-2016-128608   12/1/2016    CS-12490   26.3760\n",
       "9799  CA-2016-128608   12/1/2016    CS-12490   10.3840\n",
       "\n",
       "[9800 rows x 4 columns]"
      ]
     },
     "execution_count": 9,
     "metadata": {},
     "output_type": "execute_result"
    }
   ],
   "source": [
    "customer_df"
   ]
  },
  {
   "cell_type": "code",
   "execution_count": null,
   "id": "a0a3bdba-72d2-4bd0-a9bf-f6fab116ad4c",
   "metadata": {},
   "outputs": [],
   "source": []
  },
  {
   "cell_type": "code",
   "execution_count": null,
   "id": "89db4d7e-d136-40ef-9466-d1acde51f494",
   "metadata": {},
   "outputs": [],
   "source": []
  },
  {
   "cell_type": "code",
   "execution_count": 19,
   "id": "d6567d8d-38fe-4eb8-beb2-42dd6c871dbc",
   "metadata": {},
   "outputs": [],
   "source": [
    "import datetime as dt"
   ]
  },
  {
   "cell_type": "code",
   "execution_count": 20,
   "id": "028261a3-7dca-419e-ad3d-1829641cd302",
   "metadata": {},
   "outputs": [],
   "source": [
    "def column_month(x): #create a function that when called returns a date in form of year, month and first\n",
    "    return dt.datetime(x.year, x.month,1)"
   ]
  },
  {
   "cell_type": "code",
   "execution_count": 21,
   "id": "1c02d41a-6aac-45b3-9e61-1df75daa7c81",
   "metadata": {},
   "outputs": [
    {
     "ename": "AttributeError",
     "evalue": "'str' object has no attribute 'year'",
     "output_type": "error",
     "traceback": [
      "\u001b[1;31m---------------------------------------------------------------------------\u001b[0m",
      "\u001b[1;31mAttributeError\u001b[0m                            Traceback (most recent call last)",
      "Input \u001b[1;32mIn [21]\u001b[0m, in \u001b[0;36m<cell line: 1>\u001b[1;34m()\u001b[0m\n\u001b[1;32m----> 1\u001b[0m customer_df[\u001b[38;5;124m'\u001b[39m\u001b[38;5;124mOrder Month\u001b[39m\u001b[38;5;124m'\u001b[39m] \u001b[38;5;241m=\u001b[39m \u001b[43mcustomer_df\u001b[49m\u001b[43m[\u001b[49m\u001b[38;5;124;43m'\u001b[39;49m\u001b[38;5;124;43mOrder Date\u001b[39;49m\u001b[38;5;124;43m'\u001b[39;49m\u001b[43m]\u001b[49m\u001b[38;5;241;43m.\u001b[39;49m\u001b[43mapply\u001b[49m\u001b[43m(\u001b[49m\u001b[43mcolumn_month\u001b[49m\u001b[43m)\u001b[49m\n",
      "File \u001b[1;32m~\\anaconda3\\envs\\.venvdataanalyis\\lib\\site-packages\\pandas\\core\\series.py:4774\u001b[0m, in \u001b[0;36mSeries.apply\u001b[1;34m(self, func, convert_dtype, args, **kwargs)\u001b[0m\n\u001b[0;32m   4664\u001b[0m \u001b[38;5;28;01mdef\u001b[39;00m \u001b[38;5;21mapply\u001b[39m(\n\u001b[0;32m   4665\u001b[0m     \u001b[38;5;28mself\u001b[39m,\n\u001b[0;32m   4666\u001b[0m     func: AggFuncType,\n\u001b[1;32m   (...)\u001b[0m\n\u001b[0;32m   4669\u001b[0m     \u001b[38;5;241m*\u001b[39m\u001b[38;5;241m*\u001b[39mkwargs,\n\u001b[0;32m   4670\u001b[0m ) \u001b[38;5;241m-\u001b[39m\u001b[38;5;241m>\u001b[39m DataFrame \u001b[38;5;241m|\u001b[39m Series:\n\u001b[0;32m   4671\u001b[0m     \u001b[38;5;124;03m\"\"\"\u001b[39;00m\n\u001b[0;32m   4672\u001b[0m \u001b[38;5;124;03m    Invoke function on values of Series.\u001b[39;00m\n\u001b[0;32m   4673\u001b[0m \n\u001b[1;32m   (...)\u001b[0m\n\u001b[0;32m   4772\u001b[0m \u001b[38;5;124;03m    dtype: float64\u001b[39;00m\n\u001b[0;32m   4773\u001b[0m \u001b[38;5;124;03m    \"\"\"\u001b[39;00m\n\u001b[1;32m-> 4774\u001b[0m     \u001b[38;5;28;01mreturn\u001b[39;00m \u001b[43mSeriesApply\u001b[49m\u001b[43m(\u001b[49m\u001b[38;5;28;43mself\u001b[39;49m\u001b[43m,\u001b[49m\u001b[43m \u001b[49m\u001b[43mfunc\u001b[49m\u001b[43m,\u001b[49m\u001b[43m \u001b[49m\u001b[43mconvert_dtype\u001b[49m\u001b[43m,\u001b[49m\u001b[43m \u001b[49m\u001b[43margs\u001b[49m\u001b[43m,\u001b[49m\u001b[43m \u001b[49m\u001b[43mkwargs\u001b[49m\u001b[43m)\u001b[49m\u001b[38;5;241;43m.\u001b[39;49m\u001b[43mapply\u001b[49m\u001b[43m(\u001b[49m\u001b[43m)\u001b[49m\n",
      "File \u001b[1;32m~\\anaconda3\\envs\\.venvdataanalyis\\lib\\site-packages\\pandas\\core\\apply.py:1100\u001b[0m, in \u001b[0;36mSeriesApply.apply\u001b[1;34m(self)\u001b[0m\n\u001b[0;32m   1097\u001b[0m     \u001b[38;5;28;01mreturn\u001b[39;00m \u001b[38;5;28mself\u001b[39m\u001b[38;5;241m.\u001b[39mapply_str()\n\u001b[0;32m   1099\u001b[0m \u001b[38;5;66;03m# self.f is Callable\u001b[39;00m\n\u001b[1;32m-> 1100\u001b[0m \u001b[38;5;28;01mreturn\u001b[39;00m \u001b[38;5;28;43mself\u001b[39;49m\u001b[38;5;241;43m.\u001b[39;49m\u001b[43mapply_standard\u001b[49m\u001b[43m(\u001b[49m\u001b[43m)\u001b[49m\n",
      "File \u001b[1;32m~\\anaconda3\\envs\\.venvdataanalyis\\lib\\site-packages\\pandas\\core\\apply.py:1151\u001b[0m, in \u001b[0;36mSeriesApply.apply_standard\u001b[1;34m(self)\u001b[0m\n\u001b[0;32m   1149\u001b[0m     \u001b[38;5;28;01melse\u001b[39;00m:\n\u001b[0;32m   1150\u001b[0m         values \u001b[38;5;241m=\u001b[39m obj\u001b[38;5;241m.\u001b[39mastype(\u001b[38;5;28mobject\u001b[39m)\u001b[38;5;241m.\u001b[39m_values\n\u001b[1;32m-> 1151\u001b[0m         mapped \u001b[38;5;241m=\u001b[39m \u001b[43mlib\u001b[49m\u001b[38;5;241;43m.\u001b[39;49m\u001b[43mmap_infer\u001b[49m\u001b[43m(\u001b[49m\n\u001b[0;32m   1152\u001b[0m \u001b[43m            \u001b[49m\u001b[43mvalues\u001b[49m\u001b[43m,\u001b[49m\n\u001b[0;32m   1153\u001b[0m \u001b[43m            \u001b[49m\u001b[43mf\u001b[49m\u001b[43m,\u001b[49m\n\u001b[0;32m   1154\u001b[0m \u001b[43m            \u001b[49m\u001b[43mconvert\u001b[49m\u001b[38;5;241;43m=\u001b[39;49m\u001b[38;5;28;43mself\u001b[39;49m\u001b[38;5;241;43m.\u001b[39;49m\u001b[43mconvert_dtype\u001b[49m\u001b[43m,\u001b[49m\n\u001b[0;32m   1155\u001b[0m \u001b[43m        \u001b[49m\u001b[43m)\u001b[49m\n\u001b[0;32m   1157\u001b[0m \u001b[38;5;28;01mif\u001b[39;00m \u001b[38;5;28mlen\u001b[39m(mapped) \u001b[38;5;129;01mand\u001b[39;00m \u001b[38;5;28misinstance\u001b[39m(mapped[\u001b[38;5;241m0\u001b[39m], ABCSeries):\n\u001b[0;32m   1158\u001b[0m     \u001b[38;5;66;03m# GH#43986 Need to do list(mapped) in order to get treated as nested\u001b[39;00m\n\u001b[0;32m   1159\u001b[0m     \u001b[38;5;66;03m#  See also GH#25959 regarding EA support\u001b[39;00m\n\u001b[0;32m   1160\u001b[0m     \u001b[38;5;28;01mreturn\u001b[39;00m obj\u001b[38;5;241m.\u001b[39m_constructor_expanddim(\u001b[38;5;28mlist\u001b[39m(mapped), index\u001b[38;5;241m=\u001b[39mobj\u001b[38;5;241m.\u001b[39mindex)\n",
      "File \u001b[1;32m~\\anaconda3\\envs\\.venvdataanalyis\\lib\\site-packages\\pandas\\_libs\\lib.pyx:2919\u001b[0m, in \u001b[0;36mpandas._libs.lib.map_infer\u001b[1;34m()\u001b[0m\n",
      "Input \u001b[1;32mIn [20]\u001b[0m, in \u001b[0;36mcolumn_month\u001b[1;34m(x)\u001b[0m\n\u001b[0;32m      1\u001b[0m \u001b[38;5;28;01mdef\u001b[39;00m \u001b[38;5;21mcolumn_month\u001b[39m(x): \u001b[38;5;66;03m#create a function that when called returns a date in form of year, month and first\u001b[39;00m\n\u001b[1;32m----> 2\u001b[0m     \u001b[38;5;28;01mreturn\u001b[39;00m dt\u001b[38;5;241m.\u001b[39mdatetime(\u001b[43mx\u001b[49m\u001b[38;5;241;43m.\u001b[39;49m\u001b[43myear\u001b[49m, x\u001b[38;5;241m.\u001b[39mmonth,\u001b[38;5;241m1\u001b[39m)\n",
      "\u001b[1;31mAttributeError\u001b[0m: 'str' object has no attribute 'year'"
     ]
    }
   ],
   "source": [
    "customer_df['Order Month'] = customer_df['Order Date'].apply(column_month)"
   ]
  },
  {
   "cell_type": "code",
   "execution_count": null,
   "id": "efcbcff2-a00c-4848-a801-46b826f5a606",
   "metadata": {},
   "outputs": [],
   "source": []
  }
 ],
 "metadata": {
  "kernelspec": {
   "display_name": "Python 3 (ipykernel)",
   "language": "python",
   "name": "python3"
  },
  "language_info": {
   "codemirror_mode": {
    "name": "ipython",
    "version": 3
   },
   "file_extension": ".py",
   "mimetype": "text/x-python",
   "name": "python",
   "nbconvert_exporter": "python",
   "pygments_lexer": "ipython3",
   "version": "3.10.4"
  }
 },
 "nbformat": 4,
 "nbformat_minor": 5
}
