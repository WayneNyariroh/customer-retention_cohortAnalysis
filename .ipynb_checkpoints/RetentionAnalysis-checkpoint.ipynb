{
 "cells": [
  {
   "cell_type": "markdown",
   "id": "88e5a79e-72b5-45a3-940d-80027cce950a",
   "metadata": {},
   "source": [
    "# Customer Retention Rates: Part 2 of Store Analysis\n",
    "#### by ***Wayne Omondi***"
   ]
  },
  {
   "cell_type": "markdown",
   "id": "9038efd2-8fa1-4b2e-9d9b-8644a1e2d359",
   "metadata": {},
   "source": [
    "one of the best things for any business is to establish returning customers\n",
    "For this we will explore the concept of a ***cohort***"
   ]
  },
  {
   "cell_type": "markdown",
   "id": "b43cd492-39b5-4b0b-a4e3-8fb009d7da87",
   "metadata": {},
   "source": [
    "A cohort is a group of people that share a characteristics\n",
    "A cohort has three main ascpects \n",
    "1. time\n",
    "2. size\n",
    "3. behaviour"
   ]
  },
  {
   "cell_type": "markdown",
   "id": "36beb557-fde6-4484-9bdf-f12adc54ea42",
   "metadata": {},
   "source": []
  },
  {
   "cell_type": "code",
   "execution_count": 1,
   "id": "7632804c-66d9-4344-a103-e06115f913fe",
   "metadata": {},
   "outputs": [],
   "source": [
    "import pandas as pd\n",
    "import matplotlib.pyplot as plt\n",
    "import seaborn as sns"
   ]
  },
  {
   "cell_type": "code",
   "execution_count": 2,
   "id": "2c5cba1d-3c54-4fcb-b55f-922f2b56ebdc",
   "metadata": {},
   "outputs": [],
   "source": [
    "import warnings\n",
    "warnings.filterwarnings(\"ignore\")"
   ]
  },
  {
   "cell_type": "code",
   "execution_count": null,
   "id": "aa7af92d-8f7b-4043-be17-5c32971752e0",
   "metadata": {},
   "outputs": [],
   "source": []
  },
  {
   "cell_type": "markdown",
   "id": "8e3fc603-0a6c-4597-b23e-c746ab902485",
   "metadata": {},
   "source": [
    "We will use the SuperStore dataset from [Part 1. EDA Project](https://github.com/WayneNyariroh/StoreSales_Analysis)"
   ]
  },
  {
   "cell_type": "code",
   "execution_count": 5,
   "id": "f7469491-0c9f-4983-a98e-0538c07820d1",
   "metadata": {},
   "outputs": [],
   "source": [
    "store_df = pd.read_csv(r\"C:\\Users\\FatherMammoth\\Documents\\PortfolioPorjects\\SalesAnalysis\\data\\SuperStoreSales_Whole.csv\")"
   ]
  },
  {
   "cell_type": "code",
   "execution_count": 6,
   "id": "919cf2f9-ce0f-4f16-937e-5e77284f382e",
   "metadata": {},
   "outputs": [
    {
     "name": "stdout",
     "output_type": "stream",
     "text": [
      "<class 'pandas.core.frame.DataFrame'>\n",
      "RangeIndex: 9800 entries, 0 to 9799\n",
      "Data columns (total 21 columns):\n",
      " #   Column         Non-Null Count  Dtype  \n",
      "---  ------         --------------  -----  \n",
      " 0   Row ID         9800 non-null   int64  \n",
      " 1   Order ID       9800 non-null   object \n",
      " 2   Order Date     9800 non-null   object \n",
      " 3   Ship Date      9800 non-null   object \n",
      " 4   Ship Mode      9800 non-null   object \n",
      " 5   Customer ID    9800 non-null   object \n",
      " 6   Customer Name  9800 non-null   object \n",
      " 7   Segment        9800 non-null   object \n",
      " 8   Country        9800 non-null   object \n",
      " 9   City           9800 non-null   object \n",
      " 10  State          9800 non-null   object \n",
      " 11  Postal Code    9789 non-null   float64\n",
      " 12  Region         9800 non-null   object \n",
      " 13  Product ID     9800 non-null   object \n",
      " 14  Category       9800 non-null   object \n",
      " 15  Sub-Category   9800 non-null   object \n",
      " 16  Product Name   9800 non-null   object \n",
      " 17  Sales          9800 non-null   float64\n",
      " 18  Quantity       9800 non-null   int64  \n",
      " 19  Discount       9800 non-null   float64\n",
      " 20  Profit         9800 non-null   float64\n",
      "dtypes: float64(4), int64(2), object(15)\n",
      "memory usage: 1.6+ MB\n"
     ]
    }
   ],
   "source": [
    "store_df.info()"
   ]
  },
  {
   "cell_type": "code",
   "execution_count": null,
   "id": "a1b93ba0-79c0-4154-a324-4b99439d30a2",
   "metadata": {},
   "outputs": [],
   "source": []
  }
 ],
 "metadata": {
  "kernelspec": {
   "display_name": "Python 3 (ipykernel)",
   "language": "python",
   "name": "python3"
  },
  "language_info": {
   "codemirror_mode": {
    "name": "ipython",
    "version": 3
   },
   "file_extension": ".py",
   "mimetype": "text/x-python",
   "name": "python",
   "nbconvert_exporter": "python",
   "pygments_lexer": "ipython3",
   "version": "3.10.4"
  }
 },
 "nbformat": 4,
 "nbformat_minor": 5
}
