{
 "cells": [
  {
   "cell_type": "markdown",
   "id": "88e5a79e-72b5-45a3-940d-80027cce950a",
   "metadata": {},
   "source": [
    "# Customer Retention Rates: Part 2 of Store Analysis\n",
    "#### by ***Wayne Omondi***"
   ]
  },
  {
   "cell_type": "markdown",
   "id": "496109ff-2b11-4e39-9043-ec835e98ebf5",
   "metadata": {},
   "source": [
    "## 1.1: Introduction"
   ]
  },
  {
   "cell_type": "markdown",
   "id": "655af5f6",
   "metadata": {},
   "source": [
    "One of the best things for any business is to establish returning customers. Any company that wants to succeed must keep a close eye on its customer retention metrics. There’s a simple, economic reason why customer retention is so important: Keeping your existing customers is a lot less expensive than trying to win new ones. Loyal customers also contribute to your business’ health by providing referrals, promoting your brand on social media, and giving feedback to improve your product or service. So, it’s critical for companies to keep an eye on their customer retention rate.\n",
    "\n",
    "***How do you calculate customer retention rate?***<br>\n",
    "To determine our retention rate, first we have to identify the time frame you want to study. Next, collect the number of existing customers at the start of the time period. Then find the number of total customers at the end of the time period.\n",
    "\n",
    "For this we will explore the concept of a ***cohort***. A cohort is <ins>a group of subjects that share a defining characteristic.</ins> \n",
    ">A cohort has three main attributes:\n",
    ">1. time\n",
    ">2. size\n",
    ">3. behaviour"
   ]
  },
  {
   "cell_type": "markdown",
   "id": "a19f0185-a78c-4f54-93cb-ede2ff949778",
   "metadata": {},
   "source": [
    "### 1.1.1: Steps"
   ]
  },
  {
   "cell_type": "markdown",
   "id": "5504cf14-dd08-4f28-8baa-49ca7edb131d",
   "metadata": {},
   "source": [
    "1. __Data Loading and Preparation__\n",
    " > importing our dataset, cleaning it and preparing it.<br> \n",
    "2. __Assigning Cohorts__\n",
    "\n",
    "3. __Cohort Indexing__\n",
    "\n",
    "4. __Visualization__\n",
    "\n",
    "5. __Interpretation__"
   ]
  },
  {
   "cell_type": "code",
   "execution_count": null,
   "id": "c5e21427-553a-40b9-9a00-3359800808ca",
   "metadata": {},
   "outputs": [],
   "source": []
  },
  {
   "cell_type": "markdown",
   "id": "36beb557-fde6-4484-9bdf-f12adc54ea42",
   "metadata": {},
   "source": [
    "## 2.1: Data Loading and Prep"
   ]
  },
  {
   "cell_type": "markdown",
   "id": "a5ccbcac-bfda-4506-b3c3-ee74d93eac46",
   "metadata": {},
   "source": [
    "First we import the libraries we will need to use"
   ]
  },
  {
   "cell_type": "code",
   "execution_count": 1,
   "id": "7632804c-66d9-4344-a103-e06115f913fe",
   "metadata": {
    "tags": []
   },
   "outputs": [],
   "source": [
    "import pandas as pd\n",
    "import matplotlib.pyplot as plt\n",
    "import seaborn as sns"
   ]
  },
  {
   "cell_type": "markdown",
   "id": "fcedf926-5a1f-4dce-a18c-9964713ccb40",
   "metadata": {},
   "source": [
    "Enable our notebook to ignore all warnings"
   ]
  },
  {
   "cell_type": "code",
   "execution_count": 2,
   "id": "2c5cba1d-3c54-4fcb-b55f-922f2b56ebdc",
   "metadata": {},
   "outputs": [],
   "source": [
    "import warnings\n",
    "warnings.filterwarnings(\"ignore\")"
   ]
  },
  {
   "cell_type": "markdown",
   "id": "8e3fc603-0a6c-4597-b23e-c746ab902485",
   "metadata": {},
   "source": [
    "We will use the SuperStore dataset from [Part 1. EDA Project](https://github.com/WayneNyariroh/StoreSales_Analysis)<br>\n",
    "Let's import our dataset using read_csv()"
   ]
  },
  {
   "cell_type": "code",
   "execution_count": 4,
   "id": "f7469491-0c9f-4983-a98e-0538c07820d1",
   "metadata": {},
   "outputs": [],
   "source": [
    "store_df = pd.read_csv(r\"C:\\Users\\FatherMammoth\\Documents\\PortfolioPorjects\\SalesAnalysis\\data\\SuperStoreSales_Whole.csv\")"
   ]
  },
  {
   "cell_type": "code",
   "execution_count": 5,
   "id": "919cf2f9-ce0f-4f16-937e-5e77284f382e",
   "metadata": {},
   "outputs": [
    {
     "name": "stdout",
     "output_type": "stream",
     "text": [
      "<class 'pandas.core.frame.DataFrame'>\n",
      "RangeIndex: 9800 entries, 0 to 9799\n",
      "Data columns (total 21 columns):\n",
      " #   Column         Non-Null Count  Dtype  \n",
      "---  ------         --------------  -----  \n",
      " 0   Row ID         9800 non-null   int64  \n",
      " 1   Order ID       9800 non-null   object \n",
      " 2   Order Date     9800 non-null   object \n",
      " 3   Ship Date      9800 non-null   object \n",
      " 4   Ship Mode      9800 non-null   object \n",
      " 5   Customer ID    9800 non-null   object \n",
      " 6   Customer Name  9800 non-null   object \n",
      " 7   Segment        9800 non-null   object \n",
      " 8   Country        9800 non-null   object \n",
      " 9   City           9800 non-null   object \n",
      " 10  State          9800 non-null   object \n",
      " 11  Postal Code    9789 non-null   float64\n",
      " 12  Region         9800 non-null   object \n",
      " 13  Product ID     9800 non-null   object \n",
      " 14  Category       9800 non-null   object \n",
      " 15  Sub-Category   9800 non-null   object \n",
      " 16  Product Name   9800 non-null   object \n",
      " 17  Sales          9800 non-null   float64\n",
      " 18  Quantity       9800 non-null   int64  \n",
      " 19  Discount       9800 non-null   float64\n",
      " 20  Profit         9800 non-null   float64\n",
      "dtypes: float64(4), int64(2), object(15)\n",
      "memory usage: 1.6+ MB\n"
     ]
    }
   ],
   "source": [
    "store_df.info() #see our rows, columns, non-null values and datatypes"
   ]
  },
  {
   "cell_type": "markdown",
   "id": "aad62829-2b70-46c4-acde-be4b5774c8e3",
   "metadata": {},
   "source": [
    "After seeing our columns, we do not need a good number of them. The two most important columns for our cohort analysis are the *Order Date* and *Customer ID*. As such we have to check for any missing values in those two column."
   ]
  },
  {
   "cell_type": "code",
   "execution_count": 8,
   "id": "c9c52ae0-e5f1-423f-89fe-1c309df04d79",
   "metadata": {},
   "outputs": [
    {
     "data": {
      "text/plain": [
       "Order ID       0\n",
       "Order Date     0\n",
       "Customer ID    0\n",
       "Sales          0\n",
       "dtype: int64"
      ]
     },
     "execution_count": 8,
     "metadata": {},
     "output_type": "execute_result"
    }
   ],
   "source": [
    "store_df[['Order ID','Order Date','Customer ID','Sales']].isnull().sum()"
   ]
  },
  {
   "cell_type": "code",
   "execution_count": null,
   "id": "0b5a0de6-8aee-4c09-a5ea-26dadd6c8512",
   "metadata": {},
   "outputs": [],
   "source": [
    "customer_df = store_df.drop(columns='','','','')"
   ]
  }
 ],
 "metadata": {
  "kernelspec": {
   "display_name": "Python 3 (ipykernel)",
   "language": "python",
   "name": "python3"
  },
  "language_info": {
   "codemirror_mode": {
    "name": "ipython",
    "version": 3
   },
   "file_extension": ".py",
   "mimetype": "text/x-python",
   "name": "python",
   "nbconvert_exporter": "python",
   "pygments_lexer": "ipython3",
   "version": "3.10.4"
  }
 },
 "nbformat": 4,
 "nbformat_minor": 5
}
