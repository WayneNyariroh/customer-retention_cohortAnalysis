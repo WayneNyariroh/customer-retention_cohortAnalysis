{
 "cells": [
  {
   "cell_type": "markdown",
   "id": "88e5a79e-72b5-45a3-940d-80027cce950a",
   "metadata": {},
   "source": [
    "# Customer Retention Rates: Part 2 of Store Analysis\n",
    "#### by ***Wayne Omondi***"
   ]
  },
  {
   "cell_type": "markdown",
   "id": "496109ff-2b11-4e39-9043-ec835e98ebf5",
   "metadata": {},
   "source": [
    "## 1.0: Introduction"
   ]
  },
  {
   "cell_type": "markdown",
   "id": "655af5f6",
   "metadata": {},
   "source": [
    "One of the best things for any business is to establish returning customers. Any company that wants to succeed must keep a close eye on its customer retention metrics. There’s a simple, economic reason why customer retention is so important: Keeping your existing customers is a lot less expensive than trying to win new ones. Loyal customers also contribute to your business’ health by providing referrals, promoting your brand on social media, and giving feedback to improve your product or service. So, it’s critical for companies to keep an eye on their customer retention rate.\n",
    "\n",
    "***How do you calculate customer retention rate?***<br>\n",
    "To determine our retention rate, first we have to identify the time frame you want to study. Next, collect the number of existing customers at the start of the time period. Then find the number of total customers at the end of the time period.\n",
    "\n",
    "For this we will explore the concept of a ***cohort***. A cohort is <ins>a group of subjects that share a defining characteristic.</ins> \n",
    ">A cohort has three main attributes:\n",
    ">1. time\n",
    ">2. size\n",
    ">3. behaviour"
   ]
  },
  {
   "cell_type": "markdown",
   "id": "a19f0185-a78c-4f54-93cb-ede2ff949778",
   "metadata": {},
   "source": [
    "### 1.1: Steps"
   ]
  },
  {
   "cell_type": "markdown",
   "id": "5504cf14-dd08-4f28-8baa-49ca7edb131d",
   "metadata": {},
   "source": [
    "1. __Data Loading and Preparation__\n",
    "2. __Assigning Cohorts__\n",
    "3. __Creating Our Index__\n",
    "4. __Visualization__\n",
    "5. __Interpretation__"
   ]
  },
  {
   "cell_type": "markdown",
   "id": "36beb557-fde6-4484-9bdf-f12adc54ea42",
   "metadata": {},
   "source": [
    "## 2.0: Data Loading and Prep"
   ]
  },
  {
   "cell_type": "markdown",
   "id": "ded838e5-1f43-4ca8-a66d-224c7f3e2fa7",
   "metadata": {},
   "source": [
    "### 2.1: Libraries and Kernel Settings"
   ]
  },
  {
   "cell_type": "markdown",
   "id": "a5ccbcac-bfda-4506-b3c3-ee74d93eac46",
   "metadata": {},
   "source": [
    "First we import the libraries we will need to use for data loading and preparation and for the visualizations."
   ]
  },
  {
   "cell_type": "code",
   "execution_count": 1,
   "id": "7632804c-66d9-4344-a103-e06115f913fe",
   "metadata": {
    "tags": []
   },
   "outputs": [],
   "source": [
    "import pandas as pd #for data processing \n",
    "import matplotlib.pyplot as plt #plotting lib\n",
    "import seaborn as sns #plotting lib"
   ]
  },
  {
   "cell_type": "code",
   "execution_count": 2,
   "id": "38fe4a9c-994a-4318-b33a-877367e48831",
   "metadata": {},
   "outputs": [],
   "source": [
    "import datetime as dt #since we will be working with dates"
   ]
  },
  {
   "cell_type": "markdown",
   "id": "fcedf926-5a1f-4dce-a18c-9964713ccb40",
   "metadata": {},
   "source": [
    "Enable our notebook to ignore all warnings"
   ]
  },
  {
   "cell_type": "code",
   "execution_count": 3,
   "id": "2c5cba1d-3c54-4fcb-b55f-922f2b56ebdc",
   "metadata": {},
   "outputs": [],
   "source": [
    "import warnings\n",
    "warnings.filterwarnings(\"ignore\") "
   ]
  },
  {
   "cell_type": "markdown",
   "id": "8e3fc603-0a6c-4597-b23e-c746ab902485",
   "metadata": {},
   "source": [
    "We will use the SuperStore dataset from [Part 1. EDA Project](https://github.com/WayneNyariroh/StoreSales_Analysis)<br>\n",
    "Let's import our dataset using read_csv()"
   ]
  },
  {
   "cell_type": "markdown",
   "id": "2f0f53b8-2ff5-4a2b-8a34-3e48a93273f5",
   "metadata": {},
   "source": [
    "### 2.2: Our Data"
   ]
  },
  {
   "cell_type": "code",
   "execution_count": 4,
   "id": "f7469491-0c9f-4983-a98e-0538c07820d1",
   "metadata": {},
   "outputs": [],
   "source": [
    "store_df = pd.read_csv(r\"C:\\Users\\FatherMammoth\\Documents\\PortfolioPorjects\\SalesAnalysis\\data\\SuperStoreSales_Whole.csv\")"
   ]
  },
  {
   "cell_type": "code",
   "execution_count": 5,
   "id": "919cf2f9-ce0f-4f16-937e-5e77284f382e",
   "metadata": {},
   "outputs": [
    {
     "name": "stdout",
     "output_type": "stream",
     "text": [
      "<class 'pandas.core.frame.DataFrame'>\n",
      "RangeIndex: 9800 entries, 0 to 9799\n",
      "Data columns (total 21 columns):\n",
      " #   Column         Non-Null Count  Dtype  \n",
      "---  ------         --------------  -----  \n",
      " 0   Row ID         9800 non-null   int64  \n",
      " 1   Order ID       9800 non-null   object \n",
      " 2   Order Date     9800 non-null   object \n",
      " 3   Ship Date      9800 non-null   object \n",
      " 4   Ship Mode      9800 non-null   object \n",
      " 5   Customer ID    9800 non-null   object \n",
      " 6   Customer Name  9800 non-null   object \n",
      " 7   Segment        9800 non-null   object \n",
      " 8   Country        9800 non-null   object \n",
      " 9   City           9800 non-null   object \n",
      " 10  State          9800 non-null   object \n",
      " 11  Postal Code    9789 non-null   float64\n",
      " 12  Region         9800 non-null   object \n",
      " 13  Product ID     9800 non-null   object \n",
      " 14  Category       9800 non-null   object \n",
      " 15  Sub-Category   9800 non-null   object \n",
      " 16  Product Name   9800 non-null   object \n",
      " 17  Sales          9800 non-null   float64\n",
      " 18  Quantity       9800 non-null   int64  \n",
      " 19  Discount       9800 non-null   float64\n",
      " 20  Profit         9800 non-null   float64\n",
      "dtypes: float64(4), int64(2), object(15)\n",
      "memory usage: 1.6+ MB\n"
     ]
    }
   ],
   "source": [
    "store_df.info() #see our rows, columns, non-null values and datatypes"
   ]
  },
  {
   "cell_type": "markdown",
   "id": "aad62829-2b70-46c4-acde-be4b5774c8e3",
   "metadata": {},
   "source": [
    "After seeing our columns, we do not need a good number of them. The two most important columns for our cohort analysis are the *Order Date* and *Customer ID*. As such we have to check for any missing values in those two column."
   ]
  },
  {
   "cell_type": "code",
   "execution_count": 6,
   "id": "c9c52ae0-e5f1-423f-89fe-1c309df04d79",
   "metadata": {},
   "outputs": [
    {
     "data": {
      "text/plain": [
       "Order ID       0\n",
       "Order Date     0\n",
       "Customer ID    0\n",
       "Sales          0\n",
       "dtype: int64"
      ]
     },
     "execution_count": 6,
     "metadata": {},
     "output_type": "execute_result"
    }
   ],
   "source": [
    "store_df[['Order ID','Order Date','Customer ID','Sales']].isnull().sum()"
   ]
  },
  {
   "cell_type": "markdown",
   "id": "60f9d8ac-60d7-4419-9342-be567c688f37",
   "metadata": {},
   "source": [
    "Let's create a new dataframe that has only the columns we need"
   ]
  },
  {
   "cell_type": "code",
   "execution_count": 7,
   "id": "0b5a0de6-8aee-4c09-a5ea-26dadd6c8512",
   "metadata": {},
   "outputs": [],
   "source": [
    "customer_df = store_df[['Order ID','Order Date','Customer ID','Sales']] #the columns our new dataframe customer_df will have"
   ]
  },
  {
   "cell_type": "code",
   "execution_count": 8,
   "id": "ed410f3c-d86f-4c6c-bbea-9c52addbc03a",
   "metadata": {},
   "outputs": [
    {
     "name": "stdout",
     "output_type": "stream",
     "text": [
      "<class 'pandas.core.frame.DataFrame'>\n",
      "RangeIndex: 9800 entries, 0 to 9799\n",
      "Data columns (total 4 columns):\n",
      " #   Column       Non-Null Count  Dtype  \n",
      "---  ------       --------------  -----  \n",
      " 0   Order ID     9800 non-null   object \n",
      " 1   Order Date   9800 non-null   object \n",
      " 2   Customer ID  9800 non-null   object \n",
      " 3   Sales        9800 non-null   float64\n",
      "dtypes: float64(1), object(3)\n",
      "memory usage: 306.4+ KB\n"
     ]
    }
   ],
   "source": [
    "customer_df.info() "
   ]
  },
  {
   "cell_type": "code",
   "execution_count": 9,
   "id": "bd0e650a-9d93-4382-bdad-3285c9263ca9",
   "metadata": {},
   "outputs": [
    {
     "data": {
      "text/html": [
       "<div>\n",
       "<style scoped>\n",
       "    .dataframe tbody tr th:only-of-type {\n",
       "        vertical-align: middle;\n",
       "    }\n",
       "\n",
       "    .dataframe tbody tr th {\n",
       "        vertical-align: top;\n",
       "    }\n",
       "\n",
       "    .dataframe thead th {\n",
       "        text-align: right;\n",
       "    }\n",
       "</style>\n",
       "<table border=\"1\" class=\"dataframe\">\n",
       "  <thead>\n",
       "    <tr style=\"text-align: right;\">\n",
       "      <th></th>\n",
       "      <th>Order ID</th>\n",
       "      <th>Order Date</th>\n",
       "      <th>Customer ID</th>\n",
       "      <th>Sales</th>\n",
       "    </tr>\n",
       "  </thead>\n",
       "  <tbody>\n",
       "    <tr>\n",
       "      <th>0</th>\n",
       "      <td>CA-2017-152156</td>\n",
       "      <td>8/11/2017</td>\n",
       "      <td>CG-12520</td>\n",
       "      <td>261.9600</td>\n",
       "    </tr>\n",
       "    <tr>\n",
       "      <th>1</th>\n",
       "      <td>CA-2017-152156</td>\n",
       "      <td>8/11/2017</td>\n",
       "      <td>CG-12520</td>\n",
       "      <td>731.9400</td>\n",
       "    </tr>\n",
       "    <tr>\n",
       "      <th>2</th>\n",
       "      <td>CA-2017-138688</td>\n",
       "      <td>12/6/2017</td>\n",
       "      <td>DV-13045</td>\n",
       "      <td>14.6200</td>\n",
       "    </tr>\n",
       "    <tr>\n",
       "      <th>3</th>\n",
       "      <td>US-2016-108966</td>\n",
       "      <td>11/10/2016</td>\n",
       "      <td>SO-20335</td>\n",
       "      <td>957.5775</td>\n",
       "    </tr>\n",
       "    <tr>\n",
       "      <th>4</th>\n",
       "      <td>US-2016-108966</td>\n",
       "      <td>11/10/2016</td>\n",
       "      <td>SO-20335</td>\n",
       "      <td>22.3680</td>\n",
       "    </tr>\n",
       "    <tr>\n",
       "      <th>...</th>\n",
       "      <td>...</td>\n",
       "      <td>...</td>\n",
       "      <td>...</td>\n",
       "      <td>...</td>\n",
       "    </tr>\n",
       "    <tr>\n",
       "      <th>9795</th>\n",
       "      <td>CA-2017-125920</td>\n",
       "      <td>21/05/2017</td>\n",
       "      <td>SH-19975</td>\n",
       "      <td>3.7980</td>\n",
       "    </tr>\n",
       "    <tr>\n",
       "      <th>9796</th>\n",
       "      <td>CA-2016-128608</td>\n",
       "      <td>12/1/2016</td>\n",
       "      <td>CS-12490</td>\n",
       "      <td>10.3680</td>\n",
       "    </tr>\n",
       "    <tr>\n",
       "      <th>9797</th>\n",
       "      <td>CA-2016-128608</td>\n",
       "      <td>12/1/2016</td>\n",
       "      <td>CS-12490</td>\n",
       "      <td>235.1880</td>\n",
       "    </tr>\n",
       "    <tr>\n",
       "      <th>9798</th>\n",
       "      <td>CA-2016-128608</td>\n",
       "      <td>12/1/2016</td>\n",
       "      <td>CS-12490</td>\n",
       "      <td>26.3760</td>\n",
       "    </tr>\n",
       "    <tr>\n",
       "      <th>9799</th>\n",
       "      <td>CA-2016-128608</td>\n",
       "      <td>12/1/2016</td>\n",
       "      <td>CS-12490</td>\n",
       "      <td>10.3840</td>\n",
       "    </tr>\n",
       "  </tbody>\n",
       "</table>\n",
       "<p>9800 rows × 4 columns</p>\n",
       "</div>"
      ],
      "text/plain": [
       "            Order ID  Order Date Customer ID     Sales\n",
       "0     CA-2017-152156   8/11/2017    CG-12520  261.9600\n",
       "1     CA-2017-152156   8/11/2017    CG-12520  731.9400\n",
       "2     CA-2017-138688   12/6/2017    DV-13045   14.6200\n",
       "3     US-2016-108966  11/10/2016    SO-20335  957.5775\n",
       "4     US-2016-108966  11/10/2016    SO-20335   22.3680\n",
       "...              ...         ...         ...       ...\n",
       "9795  CA-2017-125920  21/05/2017    SH-19975    3.7980\n",
       "9796  CA-2016-128608   12/1/2016    CS-12490   10.3680\n",
       "9797  CA-2016-128608   12/1/2016    CS-12490  235.1880\n",
       "9798  CA-2016-128608   12/1/2016    CS-12490   26.3760\n",
       "9799  CA-2016-128608   12/1/2016    CS-12490   10.3840\n",
       "\n",
       "[9800 rows x 4 columns]"
      ]
     },
     "execution_count": 9,
     "metadata": {},
     "output_type": "execute_result"
    }
   ],
   "source": [
    "customer_df"
   ]
  },
  {
   "cell_type": "markdown",
   "id": "071eb2cf-d18c-4828-99a6-17697432b3b1",
   "metadata": {},
   "source": [
    "Our dataset has 9800 entries that translates to 9800 purchases by cutsomers. Each purchase (*Order ID*) has a corresponding Customer ID. Let's see how many unique customer IDs we have in our dataset"
   ]
  },
  {
   "cell_type": "code",
   "execution_count": 10,
   "id": "b2d80f0d-fb90-41bf-9b56-ab43ff3e66d1",
   "metadata": {},
   "outputs": [
    {
     "data": {
      "text/plain": [
       "793"
      ]
     },
     "execution_count": 10,
     "metadata": {},
     "output_type": "execute_result"
    }
   ],
   "source": [
    "customer_df['Customer ID'].nunique() #total unique values"
   ]
  },
  {
   "cell_type": "markdown",
   "id": "c53fd42f-accd-458c-834c-89e83caaa877",
   "metadata": {},
   "source": [
    "793 Customers are responsible for the 9800 Orders. This indicticative of returning customers. In the tail of our dataframe above, we can observe that Customer ID CS-12490 is responsible for orders in entries 9796 to 9799."
   ]
  },
  {
   "cell_type": "markdown",
   "id": "08930fb8-e8df-4a10-9e4a-56d8aa713505",
   "metadata": {},
   "source": [
    "Let's see how many times a customer's id appears in our dataframe, and an indicator of how many orders they made with the store for the time period in the dataset"
   ]
  },
  {
   "cell_type": "markdown",
   "id": "03552145-6eae-4bde-8307-06ed52a2669b",
   "metadata": {},
   "source": [
    "Lets check the customers how have made the most orders (top 20)"
   ]
  },
  {
   "cell_type": "code",
   "execution_count": 11,
   "id": "2b87aa56-8413-4ef6-a53c-7ada358962f1",
   "metadata": {
    "tags": []
   },
   "outputs": [
    {
     "data": {
      "text/plain": [
       "WB-21850    35\n",
       "MA-17560    34\n",
       "PP-18955    34\n",
       "JL-15835    33\n",
       "CK-12205    32\n",
       "JD-15895    32\n",
       "SV-20365    32\n",
       "EP-13915    31\n",
       "ZC-21910    31\n",
       "AP-10915    31\n",
       "LC-16870    30\n",
       "KL-16645    29\n",
       "BM-11650    29\n",
       "GT-14710    29\n",
       "Dp-13240    29\n",
       "CS-12250    28\n",
       "XP-21865    28\n",
       "KD-16495    28\n",
       "CL-12565    28\n",
       "KM-16720    28\n",
       "Name: Customer ID, dtype: int64"
      ]
     },
     "execution_count": 11,
     "metadata": {},
     "output_type": "execute_result"
    }
   ],
   "source": [
    "customer_df['Customer ID'].value_counts().head(20)"
   ]
  },
  {
   "cell_type": "markdown",
   "id": "5bfe86c3-a4bc-43af-af9d-65cd642ca1ce",
   "metadata": {},
   "source": [
    "## 3.0: Assigning Cohorts"
   ]
  },
  {
   "cell_type": "markdown",
   "id": "f8817e7d-2ef5-4bc4-8938-79a084cf1d98",
   "metadata": {},
   "source": [
    "As stated in the introduction the whole idea behind customer retention is having repeat purchases from that same client and a cohort being a group of subjects with a defining characteristics. In our case a customer cohort will be composed of all the customers who made their first purchase with the store on a given time period. For that we need to create new columns - Year, Order Month, Cohort Month aka Month of Customer Acquisition -  that will need to be in datetime format for easy date manipulation. We will also need to call on datetime library's methods for this. And we will need to get the time offsets."
   ]
  },
  {
   "cell_type": "code",
   "execution_count": 12,
   "id": "b669c04d-77e4-4398-85aa-32f3b2d82de1",
   "metadata": {},
   "outputs": [
    {
     "data": {
      "text/html": [
       "<div>\n",
       "<style scoped>\n",
       "    .dataframe tbody tr th:only-of-type {\n",
       "        vertical-align: middle;\n",
       "    }\n",
       "\n",
       "    .dataframe tbody tr th {\n",
       "        vertical-align: top;\n",
       "    }\n",
       "\n",
       "    .dataframe thead th {\n",
       "        text-align: right;\n",
       "    }\n",
       "</style>\n",
       "<table border=\"1\" class=\"dataframe\">\n",
       "  <thead>\n",
       "    <tr style=\"text-align: right;\">\n",
       "      <th></th>\n",
       "      <th>Order ID</th>\n",
       "      <th>Order Date</th>\n",
       "      <th>Customer ID</th>\n",
       "      <th>Sales</th>\n",
       "    </tr>\n",
       "  </thead>\n",
       "  <tbody>\n",
       "    <tr>\n",
       "      <th>0</th>\n",
       "      <td>CA-2017-152156</td>\n",
       "      <td>8/11/2017</td>\n",
       "      <td>CG-12520</td>\n",
       "      <td>261.9600</td>\n",
       "    </tr>\n",
       "    <tr>\n",
       "      <th>1</th>\n",
       "      <td>CA-2017-152156</td>\n",
       "      <td>8/11/2017</td>\n",
       "      <td>CG-12520</td>\n",
       "      <td>731.9400</td>\n",
       "    </tr>\n",
       "    <tr>\n",
       "      <th>2</th>\n",
       "      <td>CA-2017-138688</td>\n",
       "      <td>12/6/2017</td>\n",
       "      <td>DV-13045</td>\n",
       "      <td>14.6200</td>\n",
       "    </tr>\n",
       "    <tr>\n",
       "      <th>3</th>\n",
       "      <td>US-2016-108966</td>\n",
       "      <td>11/10/2016</td>\n",
       "      <td>SO-20335</td>\n",
       "      <td>957.5775</td>\n",
       "    </tr>\n",
       "    <tr>\n",
       "      <th>4</th>\n",
       "      <td>US-2016-108966</td>\n",
       "      <td>11/10/2016</td>\n",
       "      <td>SO-20335</td>\n",
       "      <td>22.3680</td>\n",
       "    </tr>\n",
       "    <tr>\n",
       "      <th>...</th>\n",
       "      <td>...</td>\n",
       "      <td>...</td>\n",
       "      <td>...</td>\n",
       "      <td>...</td>\n",
       "    </tr>\n",
       "    <tr>\n",
       "      <th>9795</th>\n",
       "      <td>CA-2017-125920</td>\n",
       "      <td>21/05/2017</td>\n",
       "      <td>SH-19975</td>\n",
       "      <td>3.7980</td>\n",
       "    </tr>\n",
       "    <tr>\n",
       "      <th>9796</th>\n",
       "      <td>CA-2016-128608</td>\n",
       "      <td>12/1/2016</td>\n",
       "      <td>CS-12490</td>\n",
       "      <td>10.3680</td>\n",
       "    </tr>\n",
       "    <tr>\n",
       "      <th>9797</th>\n",
       "      <td>CA-2016-128608</td>\n",
       "      <td>12/1/2016</td>\n",
       "      <td>CS-12490</td>\n",
       "      <td>235.1880</td>\n",
       "    </tr>\n",
       "    <tr>\n",
       "      <th>9798</th>\n",
       "      <td>CA-2016-128608</td>\n",
       "      <td>12/1/2016</td>\n",
       "      <td>CS-12490</td>\n",
       "      <td>26.3760</td>\n",
       "    </tr>\n",
       "    <tr>\n",
       "      <th>9799</th>\n",
       "      <td>CA-2016-128608</td>\n",
       "      <td>12/1/2016</td>\n",
       "      <td>CS-12490</td>\n",
       "      <td>10.3840</td>\n",
       "    </tr>\n",
       "  </tbody>\n",
       "</table>\n",
       "<p>9800 rows × 4 columns</p>\n",
       "</div>"
      ],
      "text/plain": [
       "            Order ID  Order Date Customer ID     Sales\n",
       "0     CA-2017-152156   8/11/2017    CG-12520  261.9600\n",
       "1     CA-2017-152156   8/11/2017    CG-12520  731.9400\n",
       "2     CA-2017-138688   12/6/2017    DV-13045   14.6200\n",
       "3     US-2016-108966  11/10/2016    SO-20335  957.5775\n",
       "4     US-2016-108966  11/10/2016    SO-20335   22.3680\n",
       "...              ...         ...         ...       ...\n",
       "9795  CA-2017-125920  21/05/2017    SH-19975    3.7980\n",
       "9796  CA-2016-128608   12/1/2016    CS-12490   10.3680\n",
       "9797  CA-2016-128608   12/1/2016    CS-12490  235.1880\n",
       "9798  CA-2016-128608   12/1/2016    CS-12490   26.3760\n",
       "9799  CA-2016-128608   12/1/2016    CS-12490   10.3840\n",
       "\n",
       "[9800 rows x 4 columns]"
      ]
     },
     "execution_count": 12,
     "metadata": {},
     "output_type": "execute_result"
    }
   ],
   "source": [
    "customer_df #a quick look at our dataframe as it currently is"
   ]
  },
  {
   "cell_type": "markdown",
   "id": "0a582081-3546-4354-b5b4-dbe685b43659",
   "metadata": {},
   "source": [
    "In order to freely dates we have to make sure our columns of interest is in the right datatype"
   ]
  },
  {
   "cell_type": "code",
   "execution_count": 13,
   "id": "206a6e19-fc07-4654-97c4-0d05c9786fe4",
   "metadata": {},
   "outputs": [
    {
     "data": {
      "text/plain": [
       "Order ID        object\n",
       "Order Date      object\n",
       "Customer ID     object\n",
       "Sales          float64\n",
       "dtype: object"
      ]
     },
     "execution_count": 13,
     "metadata": {},
     "output_type": "execute_result"
    }
   ],
   "source": [
    "customer_df.dtypes #check dataframe's data types"
   ]
  },
  {
   "cell_type": "markdown",
   "id": "aa28e89f-9f79-4d03-afee-84e10f62a9ce",
   "metadata": {},
   "source": [
    "The Order Date column is a string object, we have to change it to datetime. For that we use the to_datetime() method"
   ]
  },
  {
   "cell_type": "code",
   "execution_count": 14,
   "id": "39c0e5dc-e55f-44be-a32a-dc7ae0f33f92",
   "metadata": {},
   "outputs": [],
   "source": [
    "customer_df['Order Date'] = pd.to_datetime(customer_df['Order Date']) #change Order Date column to datetime datatype\n",
    "customer_df['Year'] = customer_df['Order Date'].dt.year #lets create a column for year to later allow us to select a year to focus on"
   ]
  },
  {
   "cell_type": "code",
   "execution_count": 15,
   "id": "028261a3-7dca-419e-ad3d-1829641cd302",
   "metadata": {},
   "outputs": [
    {
     "data": {
      "text/html": [
       "<div>\n",
       "<style scoped>\n",
       "    .dataframe tbody tr th:only-of-type {\n",
       "        vertical-align: middle;\n",
       "    }\n",
       "\n",
       "    .dataframe tbody tr th {\n",
       "        vertical-align: top;\n",
       "    }\n",
       "\n",
       "    .dataframe thead th {\n",
       "        text-align: right;\n",
       "    }\n",
       "</style>\n",
       "<table border=\"1\" class=\"dataframe\">\n",
       "  <thead>\n",
       "    <tr style=\"text-align: right;\">\n",
       "      <th></th>\n",
       "      <th>Order ID</th>\n",
       "      <th>Order Date</th>\n",
       "      <th>Customer ID</th>\n",
       "      <th>Sales</th>\n",
       "      <th>Year</th>\n",
       "      <th>Order Month</th>\n",
       "    </tr>\n",
       "  </thead>\n",
       "  <tbody>\n",
       "    <tr>\n",
       "      <th>0</th>\n",
       "      <td>CA-2017-152156</td>\n",
       "      <td>2017-08-11</td>\n",
       "      <td>CG-12520</td>\n",
       "      <td>261.9600</td>\n",
       "      <td>2017</td>\n",
       "      <td>2017-08-01</td>\n",
       "    </tr>\n",
       "    <tr>\n",
       "      <th>1</th>\n",
       "      <td>CA-2017-152156</td>\n",
       "      <td>2017-08-11</td>\n",
       "      <td>CG-12520</td>\n",
       "      <td>731.9400</td>\n",
       "      <td>2017</td>\n",
       "      <td>2017-08-01</td>\n",
       "    </tr>\n",
       "    <tr>\n",
       "      <th>2</th>\n",
       "      <td>CA-2017-138688</td>\n",
       "      <td>2017-12-06</td>\n",
       "      <td>DV-13045</td>\n",
       "      <td>14.6200</td>\n",
       "      <td>2017</td>\n",
       "      <td>2017-12-01</td>\n",
       "    </tr>\n",
       "    <tr>\n",
       "      <th>3</th>\n",
       "      <td>US-2016-108966</td>\n",
       "      <td>2016-11-10</td>\n",
       "      <td>SO-20335</td>\n",
       "      <td>957.5775</td>\n",
       "      <td>2016</td>\n",
       "      <td>2016-11-01</td>\n",
       "    </tr>\n",
       "    <tr>\n",
       "      <th>4</th>\n",
       "      <td>US-2016-108966</td>\n",
       "      <td>2016-11-10</td>\n",
       "      <td>SO-20335</td>\n",
       "      <td>22.3680</td>\n",
       "      <td>2016</td>\n",
       "      <td>2016-11-01</td>\n",
       "    </tr>\n",
       "    <tr>\n",
       "      <th>...</th>\n",
       "      <td>...</td>\n",
       "      <td>...</td>\n",
       "      <td>...</td>\n",
       "      <td>...</td>\n",
       "      <td>...</td>\n",
       "      <td>...</td>\n",
       "    </tr>\n",
       "    <tr>\n",
       "      <th>9795</th>\n",
       "      <td>CA-2017-125920</td>\n",
       "      <td>2017-05-21</td>\n",
       "      <td>SH-19975</td>\n",
       "      <td>3.7980</td>\n",
       "      <td>2017</td>\n",
       "      <td>2017-05-01</td>\n",
       "    </tr>\n",
       "    <tr>\n",
       "      <th>9796</th>\n",
       "      <td>CA-2016-128608</td>\n",
       "      <td>2016-12-01</td>\n",
       "      <td>CS-12490</td>\n",
       "      <td>10.3680</td>\n",
       "      <td>2016</td>\n",
       "      <td>2016-12-01</td>\n",
       "    </tr>\n",
       "    <tr>\n",
       "      <th>9797</th>\n",
       "      <td>CA-2016-128608</td>\n",
       "      <td>2016-12-01</td>\n",
       "      <td>CS-12490</td>\n",
       "      <td>235.1880</td>\n",
       "      <td>2016</td>\n",
       "      <td>2016-12-01</td>\n",
       "    </tr>\n",
       "    <tr>\n",
       "      <th>9798</th>\n",
       "      <td>CA-2016-128608</td>\n",
       "      <td>2016-12-01</td>\n",
       "      <td>CS-12490</td>\n",
       "      <td>26.3760</td>\n",
       "      <td>2016</td>\n",
       "      <td>2016-12-01</td>\n",
       "    </tr>\n",
       "    <tr>\n",
       "      <th>9799</th>\n",
       "      <td>CA-2016-128608</td>\n",
       "      <td>2016-12-01</td>\n",
       "      <td>CS-12490</td>\n",
       "      <td>10.3840</td>\n",
       "      <td>2016</td>\n",
       "      <td>2016-12-01</td>\n",
       "    </tr>\n",
       "  </tbody>\n",
       "</table>\n",
       "<p>9800 rows × 6 columns</p>\n",
       "</div>"
      ],
      "text/plain": [
       "            Order ID Order Date Customer ID     Sales  Year Order Month\n",
       "0     CA-2017-152156 2017-08-11    CG-12520  261.9600  2017  2017-08-01\n",
       "1     CA-2017-152156 2017-08-11    CG-12520  731.9400  2017  2017-08-01\n",
       "2     CA-2017-138688 2017-12-06    DV-13045   14.6200  2017  2017-12-01\n",
       "3     US-2016-108966 2016-11-10    SO-20335  957.5775  2016  2016-11-01\n",
       "4     US-2016-108966 2016-11-10    SO-20335   22.3680  2016  2016-11-01\n",
       "...              ...        ...         ...       ...   ...         ...\n",
       "9795  CA-2017-125920 2017-05-21    SH-19975    3.7980  2017  2017-05-01\n",
       "9796  CA-2016-128608 2016-12-01    CS-12490   10.3680  2016  2016-12-01\n",
       "9797  CA-2016-128608 2016-12-01    CS-12490  235.1880  2016  2016-12-01\n",
       "9798  CA-2016-128608 2016-12-01    CS-12490   26.3760  2016  2016-12-01\n",
       "9799  CA-2016-128608 2016-12-01    CS-12490   10.3840  2016  2016-12-01\n",
       "\n",
       "[9800 rows x 6 columns]"
      ]
     },
     "execution_count": 15,
     "metadata": {},
     "output_type": "execute_result"
    }
   ],
   "source": [
    "def getmonth(x): #create a function that when called returns a date in form of year, month and first\n",
    "    return dt.datetime(x.year, x.month,1)\n",
    "\n",
    "customer_df['Order Month'] = customer_df['Order Date'].apply(getmonth) #create a new column that will contain the results of our getmonth() function\n",
    "customer_df"
   ]
  },
  {
   "cell_type": "code",
   "execution_count": 16,
   "id": "db5b1f17-186f-4696-9c7e-1347c1ca1c83",
   "metadata": {},
   "outputs": [
    {
     "data": {
      "text/html": [
       "<div>\n",
       "<style scoped>\n",
       "    .dataframe tbody tr th:only-of-type {\n",
       "        vertical-align: middle;\n",
       "    }\n",
       "\n",
       "    .dataframe tbody tr th {\n",
       "        vertical-align: top;\n",
       "    }\n",
       "\n",
       "    .dataframe thead th {\n",
       "        text-align: right;\n",
       "    }\n",
       "</style>\n",
       "<table border=\"1\" class=\"dataframe\">\n",
       "  <thead>\n",
       "    <tr style=\"text-align: right;\">\n",
       "      <th></th>\n",
       "      <th>Order ID</th>\n",
       "      <th>Order Date</th>\n",
       "      <th>Customer ID</th>\n",
       "      <th>Sales</th>\n",
       "      <th>Year</th>\n",
       "      <th>Order Month</th>\n",
       "      <th>Cohort Month</th>\n",
       "    </tr>\n",
       "  </thead>\n",
       "  <tbody>\n",
       "    <tr>\n",
       "      <th>0</th>\n",
       "      <td>CA-2017-152156</td>\n",
       "      <td>2017-08-11</td>\n",
       "      <td>CG-12520</td>\n",
       "      <td>261.9600</td>\n",
       "      <td>2017</td>\n",
       "      <td>2017-08-01</td>\n",
       "      <td>2016-10-01</td>\n",
       "    </tr>\n",
       "    <tr>\n",
       "      <th>1</th>\n",
       "      <td>CA-2017-152156</td>\n",
       "      <td>2017-08-11</td>\n",
       "      <td>CG-12520</td>\n",
       "      <td>731.9400</td>\n",
       "      <td>2017</td>\n",
       "      <td>2017-08-01</td>\n",
       "      <td>2016-10-01</td>\n",
       "    </tr>\n",
       "    <tr>\n",
       "      <th>2</th>\n",
       "      <td>CA-2017-138688</td>\n",
       "      <td>2017-12-06</td>\n",
       "      <td>DV-13045</td>\n",
       "      <td>14.6200</td>\n",
       "      <td>2017</td>\n",
       "      <td>2017-12-01</td>\n",
       "      <td>2017-09-01</td>\n",
       "    </tr>\n",
       "    <tr>\n",
       "      <th>3</th>\n",
       "      <td>US-2016-108966</td>\n",
       "      <td>2016-11-10</td>\n",
       "      <td>SO-20335</td>\n",
       "      <td>957.5775</td>\n",
       "      <td>2016</td>\n",
       "      <td>2016-11-01</td>\n",
       "      <td>2016-04-01</td>\n",
       "    </tr>\n",
       "    <tr>\n",
       "      <th>4</th>\n",
       "      <td>US-2016-108966</td>\n",
       "      <td>2016-11-10</td>\n",
       "      <td>SO-20335</td>\n",
       "      <td>22.3680</td>\n",
       "      <td>2016</td>\n",
       "      <td>2016-11-01</td>\n",
       "      <td>2016-04-01</td>\n",
       "    </tr>\n",
       "    <tr>\n",
       "      <th>5</th>\n",
       "      <td>CA-2015-115812</td>\n",
       "      <td>2015-09-06</td>\n",
       "      <td>BH-11710</td>\n",
       "      <td>48.8600</td>\n",
       "      <td>2015</td>\n",
       "      <td>2015-09-01</td>\n",
       "      <td>2015-09-01</td>\n",
       "    </tr>\n",
       "    <tr>\n",
       "      <th>6</th>\n",
       "      <td>CA-2015-115812</td>\n",
       "      <td>2015-09-06</td>\n",
       "      <td>BH-11710</td>\n",
       "      <td>7.2800</td>\n",
       "      <td>2015</td>\n",
       "      <td>2015-09-01</td>\n",
       "      <td>2015-09-01</td>\n",
       "    </tr>\n",
       "    <tr>\n",
       "      <th>7</th>\n",
       "      <td>CA-2015-115812</td>\n",
       "      <td>2015-09-06</td>\n",
       "      <td>BH-11710</td>\n",
       "      <td>907.1520</td>\n",
       "      <td>2015</td>\n",
       "      <td>2015-09-01</td>\n",
       "      <td>2015-09-01</td>\n",
       "    </tr>\n",
       "    <tr>\n",
       "      <th>8</th>\n",
       "      <td>CA-2015-115812</td>\n",
       "      <td>2015-09-06</td>\n",
       "      <td>BH-11710</td>\n",
       "      <td>18.5040</td>\n",
       "      <td>2015</td>\n",
       "      <td>2015-09-01</td>\n",
       "      <td>2015-09-01</td>\n",
       "    </tr>\n",
       "    <tr>\n",
       "      <th>9</th>\n",
       "      <td>CA-2015-115812</td>\n",
       "      <td>2015-09-06</td>\n",
       "      <td>BH-11710</td>\n",
       "      <td>114.9000</td>\n",
       "      <td>2015</td>\n",
       "      <td>2015-09-01</td>\n",
       "      <td>2015-09-01</td>\n",
       "    </tr>\n",
       "  </tbody>\n",
       "</table>\n",
       "</div>"
      ],
      "text/plain": [
       "         Order ID Order Date Customer ID     Sales  Year Order Month  \\\n",
       "0  CA-2017-152156 2017-08-11    CG-12520  261.9600  2017  2017-08-01   \n",
       "1  CA-2017-152156 2017-08-11    CG-12520  731.9400  2017  2017-08-01   \n",
       "2  CA-2017-138688 2017-12-06    DV-13045   14.6200  2017  2017-12-01   \n",
       "3  US-2016-108966 2016-11-10    SO-20335  957.5775  2016  2016-11-01   \n",
       "4  US-2016-108966 2016-11-10    SO-20335   22.3680  2016  2016-11-01   \n",
       "5  CA-2015-115812 2015-09-06    BH-11710   48.8600  2015  2015-09-01   \n",
       "6  CA-2015-115812 2015-09-06    BH-11710    7.2800  2015  2015-09-01   \n",
       "7  CA-2015-115812 2015-09-06    BH-11710  907.1520  2015  2015-09-01   \n",
       "8  CA-2015-115812 2015-09-06    BH-11710   18.5040  2015  2015-09-01   \n",
       "9  CA-2015-115812 2015-09-06    BH-11710  114.9000  2015  2015-09-01   \n",
       "\n",
       "  Cohort Month  \n",
       "0   2016-10-01  \n",
       "1   2016-10-01  \n",
       "2   2017-09-01  \n",
       "3   2016-04-01  \n",
       "4   2016-04-01  \n",
       "5   2015-09-01  \n",
       "6   2015-09-01  \n",
       "7   2015-09-01  \n",
       "8   2015-09-01  \n",
       "9   2015-09-01  "
      ]
     },
     "execution_count": 16,
     "metadata": {},
     "output_type": "execute_result"
    }
   ],
   "source": [
    "customer_df['Cohort Month'] = customer_df.groupby('Customer ID')['Order Month'].transform('min') #determine the first month we see a Customer ID in our dataframe, the date we acquired them\n",
    "customer_df.head(10) #check to see the first 10 entries in the df and the new cohort"
   ]
  },
  {
   "cell_type": "markdown",
   "id": "f2aab02d-5cdf-4acf-93d6-4627b5129345",
   "metadata": {},
   "source": [
    "## 4.0: Creating Our Index: Cohort Index"
   ]
  },
  {
   "cell_type": "code",
   "execution_count": 17,
   "id": "fb7fb779-ad2c-47f0-a948-4fcd2812cf2d",
   "metadata": {},
   "outputs": [
    {
     "data": {
      "text/plain": [
       "0     8\n",
       "1     8\n",
       "2    12\n",
       "3    11\n",
       "4    11\n",
       "5     9\n",
       "6     9\n",
       "7     9\n",
       "8     9\n",
       "9     9\n",
       "Name: Order Month, dtype: int64"
      ]
     },
     "execution_count": 17,
     "metadata": {},
     "output_type": "execute_result"
    }
   ],
   "source": [
    "def date_elements (df, column):\n",
    "    day = df[column].dt.day\n",
    "    month = df[column].dt.month\n",
    "    year = df[column].dt.year\n",
    "    return day, month, year\n",
    "\n",
    "_,FirstOrderMonth, FirstOrderYear = date_elements(customer_df, 'Order Month')\n",
    "_,CohortMonth, CohortYear = date_elements(customer_df, 'Cohort Month')\n",
    "\n",
    "FirstOrderMonth[:10]"
   ]
  },
  {
   "cell_type": "code",
   "execution_count": 18,
   "id": "023366ec-5d28-432b-bc65-762223b28350",
   "metadata": {},
   "outputs": [],
   "source": [
    "year_diff = FirstOrderYear - CohortYear\n",
    "month_diff = FirstOrderMonth - CohortMonth\n",
    "\n",
    "customer_df['CohortIndex'] = year_diff*12+month_diff+1 #adding +1 starts the index at 1 instead of 0"
   ]
  },
  {
   "cell_type": "code",
   "execution_count": 19,
   "id": "ee18859f-dbc9-44b3-b83e-ef596310ad9d",
   "metadata": {},
   "outputs": [
    {
     "data": {
      "text/html": [
       "<div>\n",
       "<style scoped>\n",
       "    .dataframe tbody tr th:only-of-type {\n",
       "        vertical-align: middle;\n",
       "    }\n",
       "\n",
       "    .dataframe tbody tr th {\n",
       "        vertical-align: top;\n",
       "    }\n",
       "\n",
       "    .dataframe thead th {\n",
       "        text-align: right;\n",
       "    }\n",
       "</style>\n",
       "<table border=\"1\" class=\"dataframe\">\n",
       "  <thead>\n",
       "    <tr style=\"text-align: right;\">\n",
       "      <th></th>\n",
       "      <th>Order ID</th>\n",
       "      <th>Order Date</th>\n",
       "      <th>Customer ID</th>\n",
       "      <th>Sales</th>\n",
       "      <th>Year</th>\n",
       "      <th>Order Month</th>\n",
       "      <th>Cohort Month</th>\n",
       "      <th>CohortIndex</th>\n",
       "    </tr>\n",
       "  </thead>\n",
       "  <tbody>\n",
       "    <tr>\n",
       "      <th>9795</th>\n",
       "      <td>CA-2017-125920</td>\n",
       "      <td>2017-05-21</td>\n",
       "      <td>SH-19975</td>\n",
       "      <td>3.798</td>\n",
       "      <td>2017</td>\n",
       "      <td>2017-05-01</td>\n",
       "      <td>2015-10-01</td>\n",
       "      <td>20</td>\n",
       "    </tr>\n",
       "    <tr>\n",
       "      <th>9796</th>\n",
       "      <td>CA-2016-128608</td>\n",
       "      <td>2016-12-01</td>\n",
       "      <td>CS-12490</td>\n",
       "      <td>10.368</td>\n",
       "      <td>2016</td>\n",
       "      <td>2016-12-01</td>\n",
       "      <td>2016-12-01</td>\n",
       "      <td>1</td>\n",
       "    </tr>\n",
       "    <tr>\n",
       "      <th>9797</th>\n",
       "      <td>CA-2016-128608</td>\n",
       "      <td>2016-12-01</td>\n",
       "      <td>CS-12490</td>\n",
       "      <td>235.188</td>\n",
       "      <td>2016</td>\n",
       "      <td>2016-12-01</td>\n",
       "      <td>2016-12-01</td>\n",
       "      <td>1</td>\n",
       "    </tr>\n",
       "    <tr>\n",
       "      <th>9798</th>\n",
       "      <td>CA-2016-128608</td>\n",
       "      <td>2016-12-01</td>\n",
       "      <td>CS-12490</td>\n",
       "      <td>26.376</td>\n",
       "      <td>2016</td>\n",
       "      <td>2016-12-01</td>\n",
       "      <td>2016-12-01</td>\n",
       "      <td>1</td>\n",
       "    </tr>\n",
       "    <tr>\n",
       "      <th>9799</th>\n",
       "      <td>CA-2016-128608</td>\n",
       "      <td>2016-12-01</td>\n",
       "      <td>CS-12490</td>\n",
       "      <td>10.384</td>\n",
       "      <td>2016</td>\n",
       "      <td>2016-12-01</td>\n",
       "      <td>2016-12-01</td>\n",
       "      <td>1</td>\n",
       "    </tr>\n",
       "  </tbody>\n",
       "</table>\n",
       "</div>"
      ],
      "text/plain": [
       "            Order ID Order Date Customer ID    Sales  Year Order Month  \\\n",
       "9795  CA-2017-125920 2017-05-21    SH-19975    3.798  2017  2017-05-01   \n",
       "9796  CA-2016-128608 2016-12-01    CS-12490   10.368  2016  2016-12-01   \n",
       "9797  CA-2016-128608 2016-12-01    CS-12490  235.188  2016  2016-12-01   \n",
       "9798  CA-2016-128608 2016-12-01    CS-12490   26.376  2016  2016-12-01   \n",
       "9799  CA-2016-128608 2016-12-01    CS-12490   10.384  2016  2016-12-01   \n",
       "\n",
       "     Cohort Month  CohortIndex  \n",
       "9795   2015-10-01           20  \n",
       "9796   2016-12-01            1  \n",
       "9797   2016-12-01            1  \n",
       "9798   2016-12-01            1  \n",
       "9799   2016-12-01            1  "
      ]
     },
     "execution_count": 19,
     "metadata": {},
     "output_type": "execute_result"
    }
   ],
   "source": [
    "customer_df.tail()"
   ]
  },
  {
   "cell_type": "markdown",
   "id": "ba8cb08e-b8ff-4e38-b399-f4ff6cfbed0c",
   "metadata": {},
   "source": [
    "## 5.0: Visualizations"
   ]
  },
  {
   "cell_type": "markdown",
   "id": "38b2b81c-bb9f-4613-a65a-5e87e14dd15b",
   "metadata": {},
   "source": [
    "##### 2015 Retention Rates"
   ]
  },
  {
   "cell_type": "code",
   "execution_count": 20,
   "id": "97992b97-5472-43a3-8204-df9bc937f947",
   "metadata": {},
   "outputs": [],
   "source": [
    "#to focus on a year, we create a filter and use loc \n",
    "yearfilter = customer_df['Year'] == 2015\n",
    "df_2015 = customer_df.loc[yearfilter]"
   ]
  },
  {
   "cell_type": "code",
   "execution_count": 21,
   "id": "5b4f6155-a39f-43cd-b995-f94e2e609e20",
   "metadata": {},
   "outputs": [
    {
     "data": {
      "text/plain": [
       "589"
      ]
     },
     "execution_count": 21,
     "metadata": {},
     "output_type": "execute_result"
    }
   ],
   "source": [
    "df_2015['Customer ID'].nunique() #total customers that made orders in 2015"
   ]
  },
  {
   "cell_type": "code",
   "execution_count": 22,
   "id": "7db79201-219a-4b01-a93c-226788f28a4c",
   "metadata": {},
   "outputs": [
    {
     "data": {
      "text/plain": [
       "479856.21"
      ]
     },
     "execution_count": 22,
     "metadata": {},
     "output_type": "execute_result"
    }
   ],
   "source": [
    "df_2015['Sales'].sum().round(2) #total revenue for 2015"
   ]
  },
  {
   "cell_type": "code",
   "execution_count": 23,
   "id": "0b4a7ecf-2890-47ed-be42-5f1fec82a94d",
   "metadata": {},
   "outputs": [
    {
     "data": {
      "text/html": [
       "<div>\n",
       "<style scoped>\n",
       "    .dataframe tbody tr th:only-of-type {\n",
       "        vertical-align: middle;\n",
       "    }\n",
       "\n",
       "    .dataframe tbody tr th {\n",
       "        vertical-align: top;\n",
       "    }\n",
       "\n",
       "    .dataframe thead th {\n",
       "        text-align: right;\n",
       "    }\n",
       "</style>\n",
       "<table border=\"1\" class=\"dataframe\">\n",
       "  <thead>\n",
       "    <tr style=\"text-align: right;\">\n",
       "      <th></th>\n",
       "      <th>Cohort Month</th>\n",
       "      <th>CohortIndex</th>\n",
       "      <th>Customer ID</th>\n",
       "    </tr>\n",
       "  </thead>\n",
       "  <tbody>\n",
       "    <tr>\n",
       "      <th>0</th>\n",
       "      <td>2015-01-01</td>\n",
       "      <td>1</td>\n",
       "      <td>54</td>\n",
       "    </tr>\n",
       "    <tr>\n",
       "      <th>1</th>\n",
       "      <td>2015-01-01</td>\n",
       "      <td>2</td>\n",
       "      <td>2</td>\n",
       "    </tr>\n",
       "    <tr>\n",
       "      <th>2</th>\n",
       "      <td>2015-01-01</td>\n",
       "      <td>3</td>\n",
       "      <td>6</td>\n",
       "    </tr>\n",
       "    <tr>\n",
       "      <th>3</th>\n",
       "      <td>2015-01-01</td>\n",
       "      <td>4</td>\n",
       "      <td>1</td>\n",
       "    </tr>\n",
       "    <tr>\n",
       "      <th>4</th>\n",
       "      <td>2015-01-01</td>\n",
       "      <td>5</td>\n",
       "      <td>6</td>\n",
       "    </tr>\n",
       "    <tr>\n",
       "      <th>...</th>\n",
       "      <td>...</td>\n",
       "      <td>...</td>\n",
       "      <td>...</td>\n",
       "    </tr>\n",
       "    <tr>\n",
       "      <th>73</th>\n",
       "      <td>2015-10-01</td>\n",
       "      <td>2</td>\n",
       "      <td>6</td>\n",
       "    </tr>\n",
       "    <tr>\n",
       "      <th>74</th>\n",
       "      <td>2015-10-01</td>\n",
       "      <td>3</td>\n",
       "      <td>6</td>\n",
       "    </tr>\n",
       "    <tr>\n",
       "      <th>75</th>\n",
       "      <td>2015-11-01</td>\n",
       "      <td>1</td>\n",
       "      <td>52</td>\n",
       "    </tr>\n",
       "    <tr>\n",
       "      <th>76</th>\n",
       "      <td>2015-11-01</td>\n",
       "      <td>2</td>\n",
       "      <td>6</td>\n",
       "    </tr>\n",
       "    <tr>\n",
       "      <th>77</th>\n",
       "      <td>2015-12-01</td>\n",
       "      <td>1</td>\n",
       "      <td>44</td>\n",
       "    </tr>\n",
       "  </tbody>\n",
       "</table>\n",
       "<p>78 rows × 3 columns</p>\n",
       "</div>"
      ],
      "text/plain": [
       "   Cohort Month  CohortIndex  Customer ID\n",
       "0    2015-01-01            1           54\n",
       "1    2015-01-01            2            2\n",
       "2    2015-01-01            3            6\n",
       "3    2015-01-01            4            1\n",
       "4    2015-01-01            5            6\n",
       "..          ...          ...          ...\n",
       "73   2015-10-01            2            6\n",
       "74   2015-10-01            3            6\n",
       "75   2015-11-01            1           52\n",
       "76   2015-11-01            2            6\n",
       "77   2015-12-01            1           44\n",
       "\n",
       "[78 rows x 3 columns]"
      ]
     },
     "execution_count": 23,
     "metadata": {},
     "output_type": "execute_result"
    }
   ],
   "source": [
    "cohort_df = df_2015.groupby(['Cohort Month', 'CohortIndex'])['Customer ID'].apply(pd.Series.nunique).reset_index()\n",
    "cohort_df"
   ]
  },
  {
   "cell_type": "code",
   "execution_count": 24,
   "id": "185cc3d6-0de3-4097-a3ef-aa227c22931e",
   "metadata": {},
   "outputs": [],
   "source": [
    "cohort_table_2015 = cohort_df.pivot(index='Cohort Month', columns=['CohortIndex'], values='Customer ID') #create a pivot table"
   ]
  },
  {
   "cell_type": "code",
   "execution_count": 25,
   "id": "41826f82-30ea-4091-8bb6-f087a3cf4a38",
   "metadata": {},
   "outputs": [
    {
     "data": {
      "text/html": [
       "<div>\n",
       "<style scoped>\n",
       "    .dataframe tbody tr th:only-of-type {\n",
       "        vertical-align: middle;\n",
       "    }\n",
       "\n",
       "    .dataframe tbody tr th {\n",
       "        vertical-align: top;\n",
       "    }\n",
       "\n",
       "    .dataframe thead th {\n",
       "        text-align: right;\n",
       "    }\n",
       "</style>\n",
       "<table border=\"1\" class=\"dataframe\">\n",
       "  <thead>\n",
       "    <tr style=\"text-align: right;\">\n",
       "      <th>CohortIndex</th>\n",
       "      <th>1</th>\n",
       "      <th>2</th>\n",
       "      <th>3</th>\n",
       "      <th>4</th>\n",
       "      <th>5</th>\n",
       "      <th>6</th>\n",
       "      <th>7</th>\n",
       "      <th>8</th>\n",
       "      <th>9</th>\n",
       "      <th>10</th>\n",
       "      <th>11</th>\n",
       "      <th>12</th>\n",
       "    </tr>\n",
       "    <tr>\n",
       "      <th>Cohort Month</th>\n",
       "      <th></th>\n",
       "      <th></th>\n",
       "      <th></th>\n",
       "      <th></th>\n",
       "      <th></th>\n",
       "      <th></th>\n",
       "      <th></th>\n",
       "      <th></th>\n",
       "      <th></th>\n",
       "      <th></th>\n",
       "      <th></th>\n",
       "      <th></th>\n",
       "    </tr>\n",
       "  </thead>\n",
       "  <tbody>\n",
       "    <tr>\n",
       "      <th>2015-01-01</th>\n",
       "      <td>54.0</td>\n",
       "      <td>2.0</td>\n",
       "      <td>6.0</td>\n",
       "      <td>1.0</td>\n",
       "      <td>6.0</td>\n",
       "      <td>8.0</td>\n",
       "      <td>9.0</td>\n",
       "      <td>6.0</td>\n",
       "      <td>6.0</td>\n",
       "      <td>2.0</td>\n",
       "      <td>6.0</td>\n",
       "      <td>5.0</td>\n",
       "    </tr>\n",
       "    <tr>\n",
       "      <th>2015-02-01</th>\n",
       "      <td>44.0</td>\n",
       "      <td>5.0</td>\n",
       "      <td>6.0</td>\n",
       "      <td>3.0</td>\n",
       "      <td>4.0</td>\n",
       "      <td>4.0</td>\n",
       "      <td>1.0</td>\n",
       "      <td>5.0</td>\n",
       "      <td>4.0</td>\n",
       "      <td>3.0</td>\n",
       "      <td>7.0</td>\n",
       "      <td>NaN</td>\n",
       "    </tr>\n",
       "    <tr>\n",
       "      <th>2015-03-01</th>\n",
       "      <td>65.0</td>\n",
       "      <td>8.0</td>\n",
       "      <td>2.0</td>\n",
       "      <td>1.0</td>\n",
       "      <td>5.0</td>\n",
       "      <td>2.0</td>\n",
       "      <td>6.0</td>\n",
       "      <td>1.0</td>\n",
       "      <td>9.0</td>\n",
       "      <td>9.0</td>\n",
       "      <td>NaN</td>\n",
       "      <td>NaN</td>\n",
       "    </tr>\n",
       "    <tr>\n",
       "      <th>2015-04-01</th>\n",
       "      <td>44.0</td>\n",
       "      <td>3.0</td>\n",
       "      <td>1.0</td>\n",
       "      <td>2.0</td>\n",
       "      <td>4.0</td>\n",
       "      <td>6.0</td>\n",
       "      <td>4.0</td>\n",
       "      <td>8.0</td>\n",
       "      <td>7.0</td>\n",
       "      <td>NaN</td>\n",
       "      <td>NaN</td>\n",
       "      <td>NaN</td>\n",
       "    </tr>\n",
       "    <tr>\n",
       "      <th>2015-05-01</th>\n",
       "      <td>61.0</td>\n",
       "      <td>4.0</td>\n",
       "      <td>5.0</td>\n",
       "      <td>7.0</td>\n",
       "      <td>5.0</td>\n",
       "      <td>2.0</td>\n",
       "      <td>11.0</td>\n",
       "      <td>9.0</td>\n",
       "      <td>NaN</td>\n",
       "      <td>NaN</td>\n",
       "      <td>NaN</td>\n",
       "      <td>NaN</td>\n",
       "    </tr>\n",
       "    <tr>\n",
       "      <th>2015-06-01</th>\n",
       "      <td>48.0</td>\n",
       "      <td>4.0</td>\n",
       "      <td>1.0</td>\n",
       "      <td>5.0</td>\n",
       "      <td>2.0</td>\n",
       "      <td>8.0</td>\n",
       "      <td>6.0</td>\n",
       "      <td>NaN</td>\n",
       "      <td>NaN</td>\n",
       "      <td>NaN</td>\n",
       "      <td>NaN</td>\n",
       "      <td>NaN</td>\n",
       "    </tr>\n",
       "    <tr>\n",
       "      <th>2015-07-01</th>\n",
       "      <td>39.0</td>\n",
       "      <td>1.0</td>\n",
       "      <td>8.0</td>\n",
       "      <td>1.0</td>\n",
       "      <td>5.0</td>\n",
       "      <td>6.0</td>\n",
       "      <td>NaN</td>\n",
       "      <td>NaN</td>\n",
       "      <td>NaN</td>\n",
       "      <td>NaN</td>\n",
       "      <td>NaN</td>\n",
       "      <td>NaN</td>\n",
       "    </tr>\n",
       "    <tr>\n",
       "      <th>2015-08-01</th>\n",
       "      <td>46.0</td>\n",
       "      <td>9.0</td>\n",
       "      <td>2.0</td>\n",
       "      <td>7.0</td>\n",
       "      <td>5.0</td>\n",
       "      <td>NaN</td>\n",
       "      <td>NaN</td>\n",
       "      <td>NaN</td>\n",
       "      <td>NaN</td>\n",
       "      <td>NaN</td>\n",
       "      <td>NaN</td>\n",
       "      <td>NaN</td>\n",
       "    </tr>\n",
       "    <tr>\n",
       "      <th>2015-09-01</th>\n",
       "      <td>52.0</td>\n",
       "      <td>3.0</td>\n",
       "      <td>4.0</td>\n",
       "      <td>5.0</td>\n",
       "      <td>NaN</td>\n",
       "      <td>NaN</td>\n",
       "      <td>NaN</td>\n",
       "      <td>NaN</td>\n",
       "      <td>NaN</td>\n",
       "      <td>NaN</td>\n",
       "      <td>NaN</td>\n",
       "      <td>NaN</td>\n",
       "    </tr>\n",
       "    <tr>\n",
       "      <th>2015-10-01</th>\n",
       "      <td>40.0</td>\n",
       "      <td>6.0</td>\n",
       "      <td>6.0</td>\n",
       "      <td>NaN</td>\n",
       "      <td>NaN</td>\n",
       "      <td>NaN</td>\n",
       "      <td>NaN</td>\n",
       "      <td>NaN</td>\n",
       "      <td>NaN</td>\n",
       "      <td>NaN</td>\n",
       "      <td>NaN</td>\n",
       "      <td>NaN</td>\n",
       "    </tr>\n",
       "    <tr>\n",
       "      <th>2015-11-01</th>\n",
       "      <td>52.0</td>\n",
       "      <td>6.0</td>\n",
       "      <td>NaN</td>\n",
       "      <td>NaN</td>\n",
       "      <td>NaN</td>\n",
       "      <td>NaN</td>\n",
       "      <td>NaN</td>\n",
       "      <td>NaN</td>\n",
       "      <td>NaN</td>\n",
       "      <td>NaN</td>\n",
       "      <td>NaN</td>\n",
       "      <td>NaN</td>\n",
       "    </tr>\n",
       "    <tr>\n",
       "      <th>2015-12-01</th>\n",
       "      <td>44.0</td>\n",
       "      <td>NaN</td>\n",
       "      <td>NaN</td>\n",
       "      <td>NaN</td>\n",
       "      <td>NaN</td>\n",
       "      <td>NaN</td>\n",
       "      <td>NaN</td>\n",
       "      <td>NaN</td>\n",
       "      <td>NaN</td>\n",
       "      <td>NaN</td>\n",
       "      <td>NaN</td>\n",
       "      <td>NaN</td>\n",
       "    </tr>\n",
       "  </tbody>\n",
       "</table>\n",
       "</div>"
      ],
      "text/plain": [
       "CohortIndex     1    2    3    4    5    6     7    8    9    10   11   12\n",
       "Cohort Month                                                              \n",
       "2015-01-01    54.0  2.0  6.0  1.0  6.0  8.0   9.0  6.0  6.0  2.0  6.0  5.0\n",
       "2015-02-01    44.0  5.0  6.0  3.0  4.0  4.0   1.0  5.0  4.0  3.0  7.0  NaN\n",
       "2015-03-01    65.0  8.0  2.0  1.0  5.0  2.0   6.0  1.0  9.0  9.0  NaN  NaN\n",
       "2015-04-01    44.0  3.0  1.0  2.0  4.0  6.0   4.0  8.0  7.0  NaN  NaN  NaN\n",
       "2015-05-01    61.0  4.0  5.0  7.0  5.0  2.0  11.0  9.0  NaN  NaN  NaN  NaN\n",
       "2015-06-01    48.0  4.0  1.0  5.0  2.0  8.0   6.0  NaN  NaN  NaN  NaN  NaN\n",
       "2015-07-01    39.0  1.0  8.0  1.0  5.0  6.0   NaN  NaN  NaN  NaN  NaN  NaN\n",
       "2015-08-01    46.0  9.0  2.0  7.0  5.0  NaN   NaN  NaN  NaN  NaN  NaN  NaN\n",
       "2015-09-01    52.0  3.0  4.0  5.0  NaN  NaN   NaN  NaN  NaN  NaN  NaN  NaN\n",
       "2015-10-01    40.0  6.0  6.0  NaN  NaN  NaN   NaN  NaN  NaN  NaN  NaN  NaN\n",
       "2015-11-01    52.0  6.0  NaN  NaN  NaN  NaN   NaN  NaN  NaN  NaN  NaN  NaN\n",
       "2015-12-01    44.0  NaN  NaN  NaN  NaN  NaN   NaN  NaN  NaN  NaN  NaN  NaN"
      ]
     },
     "execution_count": 25,
     "metadata": {},
     "output_type": "execute_result"
    }
   ],
   "source": [
    "cohort_table_2015"
   ]
  },
  {
   "cell_type": "code",
   "execution_count": 26,
   "id": "e5e43f95-e935-4af1-9dd1-035e19707fca",
   "metadata": {},
   "outputs": [],
   "source": [
    "cohort_table_2015.index = cohort_table_2015.index.strftime('%B %Y') #to fix the xaxis into month and year instead of time code, comment put on reruns"
   ]
  },
  {
   "cell_type": "code",
   "execution_count": 27,
   "id": "88722074-d202-462f-8827-56b997458d84",
   "metadata": {},
   "outputs": [
    {
     "data": {
      "image/png": "[encoded data removed]",
      "text/plain": [
       "<Figure size 1440x576 with 2 Axes>"
      ]
     },
     "metadata": {
      "needs_background": "light"
     },
     "output_type": "display_data"
    }
   ],
   "source": [
    "plt.figure(figsize=(20,8))\n",
    "plt.title('SuperStore - Customer Retention: 2015',fontsize=11, fontweight='bold')\n",
    "sns.heatmap(cohort_table_2015, annot=True, cmap='YlGnBu')\n",
    "plt.show()"
   ]
  },
  {
   "cell_type": "markdown",
   "id": "6473a9b4",
   "metadata": {},
   "source": [
    "The yaxis shows the cohort months i.e, the month of the first order for each customers with the values in Cohort Index 1 showing the total number of customers that made their first order in that month - 54 customers made their first order in January 2015. Cohort Index 2 and forward show the subsequent months following when the month of the first order - of the 54 customers that made their first order in January 2015, 2 were returning customers in the following month and 5 returning customers at the 12 month.\n",
    "\n"
   ]
  },
  {
   "cell_type": "markdown",
   "id": "e0378536-b8ef-416d-b19a-6c014b01cbf5",
   "metadata": {},
   "source": [
    "To show Retention Rates as percentages"
   ]
  },
  {
   "cell_type": "code",
   "execution_count": 28,
   "id": "a9265d7b-7d17-4613-aa0a-ad9060288afa",
   "metadata": {},
   "outputs": [
    {
     "data": {
      "image/png": "[encoded data removed]",
      "text/plain": [
       "<Figure size 1440x576 with 2 Axes>"
      ]
     },
     "metadata": {
      "needs_background": "light"
     },
     "output_type": "display_data"
    }
   ],
   "source": [
    "retention_rates_2015 = cohort_table_2015.divide(cohort_table_2015.iloc[:,0], axis=0) #divide each row by the first row aka month 1, add fmt='.0%' to plot attributes\n",
    "\n",
    "plt.figure(figsize=(20,8))\n",
    "plt.title('SuperStore - Customer Retention Rates: 2015',fontsize=11, fontweight='bold')\n",
    "sns.heatmap(retention_rates_2015, annot=True, cmap='Blues', fmt='.0%')\n",
    "plt.show()"
   ]
  },
  {
   "cell_type": "markdown",
   "id": "5d1f40da-b271-410e-af8a-2354870a59b4",
   "metadata": {},
   "source": [
    "### Next Step\n",
    "\n",
    "Show revenue spents by each cohort plotted in the same format"
   ]
  },
  {
   "cell_type": "code",
   "execution_count": 33,
   "id": "26b468ba-2312-4020-a7ec-58e9d1833e39",
   "metadata": {},
   "outputs": [
    {
     "data": {
      "image/png": "[encoded data removed]",
      "text/plain": [
       "<Figure size 1440x720 with 2 Axes>"
      ]
     },
     "metadata": {
      "needs_background": "light"
     },
     "output_type": "display_data"
    }
   ],
   "source": [
    "revenue_cohort_df = df_2015.groupby(['Cohort Month', 'CohortIndex'])['Sales'].apply(pd.Series.sum).round(2).reset_index()\n",
    "revenue_table_2015 = revenue_cohort_df.pivot(index='Cohort Month', columns=['CohortIndex'], values='Sales')\n",
    "\n",
    "revenue_table_2015.index = revenue_table_2015.index.strftime('%B %Y')\n",
    "\n",
    "plt.figure(figsize=(20,10))\n",
    "plt.title('SuperStore - Revenue per Cohort: 2015',fontsize=11, fontweight='bold')\n",
    "heatmap = sns.heatmap(revenue_table_2015, annot=True, annot_kws={\"size\":11}, cmap='BuGn', fmt='.2f')\n",
    "#added after, to show currency symbol in the annotations\n",
    "for t in heatmap.texts:\n",
    "    current_text = t.get_text()\n",
    "    text_transform = (lambda x: f\"${x}\")\n",
    "    t.set_text(text_transform(float(current_text)))\n",
    "\n",
    "plt.show()"
   ]
  },
  {
   "cell_type": "code",
   "execution_count": null,
   "id": "56803abd-00c7-4081-8ba2-4c5c015926a8",
   "metadata": {},
   "outputs": [],
   "source": [
    "revenue_table_2015"
   ]
  },
  {
   "cell_type": "markdown",
   "id": "721c5636-9fa4-466a-a7fc-592ad389f647",
   "metadata": {},
   "source": [
    "when we look at the cohorts interms of Revenues, the 54 customers who made their first order in January 2015 spent 28828.25 in that first order month, a month later that cohort spent 636.65 and 5 months later (cohort index 6) they spent 3456.93"
   ]
  },
  {
   "cell_type": "code",
   "execution_count": null,
   "id": "9ea9b54a-7624-4fc2-a8b3-dcd677b19f31",
   "metadata": {},
   "outputs": [],
   "source": []
  }
 ],
 "metadata": {
  "kernelspec": {
   "display_name": "Python 3 (ipykernel)",
   "language": "python",
   "name": "python3"
  },
  "language_info": {
   "codemirror_mode": {
    "name": "ipython",
    "version": 3
   },
   "file_extension": ".py",
   "mimetype": "text/x-python",
   "name": "python",
   "nbconvert_exporter": "python",
   "pygments_lexer": "ipython3",
   "version": "3.10.4"
  },
  "vscode": {
   "interpreter": {
    "hash": "3a0d1d2488267284bd5382c849dce31ca2e329f6cb685023a8853f5c9065c863"
   }
  }
 },
 "nbformat": 4,
 "nbformat_minor": 5
}
